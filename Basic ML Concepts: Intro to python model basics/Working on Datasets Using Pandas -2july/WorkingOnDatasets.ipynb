{
  "metadata": {
    "kernelspec": {
      "name": "python",
      "display_name": "Python (Pyodide)",
      "language": "python"
    },
    "language_info": {
      "codemirror_mode": {
        "name": "python",
        "version": 3
      },
      "file_extension": ".py",
      "mimetype": "text/x-python",
      "name": "python",
      "nbconvert_exporter": "python",
      "pygments_lexer": "ipython3",
      "version": "3.8"
    }
  },
  "nbformat_minor": 4,
  "nbformat": 4,
  "cells": [
    {
      "cell_type": "code",
      "source": "import numpy as np\nimport pandas as pd",
      "metadata": {
        "trusted": true
      },
      "outputs": [],
      "execution_count": 1
    },
    {
      "cell_type": "code",
      "source": "import pandas as pd\n\ndf1 = pd.read_csv('bestsellers.csv')\n\nprint(df1)",
      "metadata": {
        "trusted": true
      },
      "outputs": [
        {
          "name": "stdout",
          "text": "                                                  Name  \\\n0                        10-Day Green Smoothie Cleanse   \n1                                    11/22/63: A Novel   \n2              12 Rules for Life: An Antidote to Chaos   \n3                               1984 (Signet Classics)   \n4    5,000 Awesome Facts (About Everything!) (Natio...   \n..                                                 ...   \n545       Wrecking Ball (Diary of a Wimpy Kid Book 14)   \n546  You Are a Badass: How to Stop Doubting Your Gr...   \n547  You Are a Badass: How to Stop Doubting Your Gr...   \n548  You Are a Badass: How to Stop Doubting Your Gr...   \n549  You Are a Badass: How to Stop Doubting Your Gr...   \n\n                       Author  User Rating  Reviews  Price  Year        Genre  \n0                    JJ Smith          4.7    17350      8  2016  Non Fiction  \n1                Stephen King          4.6     2052     22  2011      Fiction  \n2          Jordan B. Peterson          4.7    18979     15  2018  Non Fiction  \n3               George Orwell          4.7    21424      6  2017      Fiction  \n4    National Geographic Kids          4.8     7665     12  2019  Non Fiction  \n..                        ...          ...      ...    ...   ...          ...  \n545               Jeff Kinney          4.9     9413      8  2019      Fiction  \n546               Jen Sincero          4.7    14331      8  2016  Non Fiction  \n547               Jen Sincero          4.7    14331      8  2017  Non Fiction  \n548               Jen Sincero          4.7    14331      8  2018  Non Fiction  \n549               Jen Sincero          4.7    14331      8  2019  Non Fiction  \n\n[550 rows x 7 columns]\n",
          "output_type": "stream"
        }
      ],
      "execution_count": 19
    },
    {
      "cell_type": "code",
      "source": "df2=pd.read_json('data.json')\ndf2",
      "metadata": {
        "trusted": true
      },
      "outputs": [
        {
          "execution_count": 25,
          "output_type": "execute_result",
          "data": {
            "text/plain": "               Name         Country             House    Reign  ID\n0  Edward the Elder  United Kingdom   House of Wessex  899-925   1\n1         Athelstan           China  House in Beijing  925-940   2\n2            Edmund           India    House in Delhi  940-946   3\n3             Edred  United Kingdom   House of Wessex  946-955   4\n4              Edwy       Australia    House in Wales  955-959   5",
            "text/html": "<div>\n<style scoped>\n    .dataframe tbody tr th:only-of-type {\n        vertical-align: middle;\n    }\n\n    .dataframe tbody tr th {\n        vertical-align: top;\n    }\n\n    .dataframe thead th {\n        text-align: right;\n    }\n</style>\n<table border=\"1\" class=\"dataframe\">\n  <thead>\n    <tr style=\"text-align: right;\">\n      <th></th>\n      <th>Name</th>\n      <th>Country</th>\n      <th>House</th>\n      <th>Reign</th>\n      <th>ID</th>\n    </tr>\n  </thead>\n  <tbody>\n    <tr>\n      <th>0</th>\n      <td>Edward the Elder</td>\n      <td>United Kingdom</td>\n      <td>House of Wessex</td>\n      <td>899-925</td>\n      <td>1</td>\n    </tr>\n    <tr>\n      <th>1</th>\n      <td>Athelstan</td>\n      <td>China</td>\n      <td>House in Beijing</td>\n      <td>925-940</td>\n      <td>2</td>\n    </tr>\n    <tr>\n      <th>2</th>\n      <td>Edmund</td>\n      <td>India</td>\n      <td>House in Delhi</td>\n      <td>940-946</td>\n      <td>3</td>\n    </tr>\n    <tr>\n      <th>3</th>\n      <td>Edred</td>\n      <td>United Kingdom</td>\n      <td>House of Wessex</td>\n      <td>946-955</td>\n      <td>4</td>\n    </tr>\n    <tr>\n      <th>4</th>\n      <td>Edwy</td>\n      <td>Australia</td>\n      <td>House in Wales</td>\n      <td>955-959</td>\n      <td>5</td>\n    </tr>\n  </tbody>\n</table>\n</div>"
          },
          "metadata": {}
        }
      ],
      "execution_count": 25
    },
    {
      "cell_type": "code",
      "source": "df3=pd.read_json('Data (1).json')\n# print statement doesnt give whole dataset\ndf3",
      "metadata": {
        "trusted": true
      },
      "outputs": [
        {
          "execution_count": 28,
          "output_type": "execute_result",
          "data": {
            "text/plain": "     Duration  Pulse  Maxpulse  Calories\n0          60    110       130     409.1\n1          60    117       145     479.0\n2          60    103       135     340.0\n3          45    109       175     282.4\n4          45    117       148     406.0\n..        ...    ...       ...       ...\n164        60    105       140     290.8\n165        60    110       145     300.4\n166        60    115       145     310.2\n167        75    120       150     320.4\n168        75    125       150     330.4\n\n[169 rows x 4 columns]",
            "text/html": "<div>\n<style scoped>\n    .dataframe tbody tr th:only-of-type {\n        vertical-align: middle;\n    }\n\n    .dataframe tbody tr th {\n        vertical-align: top;\n    }\n\n    .dataframe thead th {\n        text-align: right;\n    }\n</style>\n<table border=\"1\" class=\"dataframe\">\n  <thead>\n    <tr style=\"text-align: right;\">\n      <th></th>\n      <th>Duration</th>\n      <th>Pulse</th>\n      <th>Maxpulse</th>\n      <th>Calories</th>\n    </tr>\n  </thead>\n  <tbody>\n    <tr>\n      <th>0</th>\n      <td>60</td>\n      <td>110</td>\n      <td>130</td>\n      <td>409.1</td>\n    </tr>\n    <tr>\n      <th>1</th>\n      <td>60</td>\n      <td>117</td>\n      <td>145</td>\n      <td>479.0</td>\n    </tr>\n    <tr>\n      <th>2</th>\n      <td>60</td>\n      <td>103</td>\n      <td>135</td>\n      <td>340.0</td>\n    </tr>\n    <tr>\n      <th>3</th>\n      <td>45</td>\n      <td>109</td>\n      <td>175</td>\n      <td>282.4</td>\n    </tr>\n    <tr>\n      <th>4</th>\n      <td>45</td>\n      <td>117</td>\n      <td>148</td>\n      <td>406.0</td>\n    </tr>\n    <tr>\n      <th>...</th>\n      <td>...</td>\n      <td>...</td>\n      <td>...</td>\n      <td>...</td>\n    </tr>\n    <tr>\n      <th>164</th>\n      <td>60</td>\n      <td>105</td>\n      <td>140</td>\n      <td>290.8</td>\n    </tr>\n    <tr>\n      <th>165</th>\n      <td>60</td>\n      <td>110</td>\n      <td>145</td>\n      <td>300.4</td>\n    </tr>\n    <tr>\n      <th>166</th>\n      <td>60</td>\n      <td>115</td>\n      <td>145</td>\n      <td>310.2</td>\n    </tr>\n    <tr>\n      <th>167</th>\n      <td>75</td>\n      <td>120</td>\n      <td>150</td>\n      <td>320.4</td>\n    </tr>\n    <tr>\n      <th>168</th>\n      <td>75</td>\n      <td>125</td>\n      <td>150</td>\n      <td>330.4</td>\n    </tr>\n  </tbody>\n</table>\n<p>169 rows × 4 columns</p>\n</div>"
          },
          "metadata": {}
        }
      ],
      "execution_count": 28
    },
    {
      "cell_type": "code",
      "source": "df3=pd.read_json('Data (1).json')\n# to_string() gives whole dataset\nprint(df3.to_string())",
      "metadata": {
        "trusted": true
      },
      "outputs": [
        {
          "name": "stdout",
          "text": "     Duration  Pulse  Maxpulse  Calories\n0          60    110       130     409.1\n1          60    117       145     479.0\n2          60    103       135     340.0\n3          45    109       175     282.4\n4          45    117       148     406.0\n5          60    102       127     300.5\n6          60    110       136     374.0\n7          45    104       134     253.3\n8          30    109       133     195.1\n9          60     98       124     269.0\n10         60    103       147     329.3\n11         60    100       120     250.7\n12         60    106       128     345.3\n13         60    104       132     379.3\n14         60     98       123     275.0\n15         60     98       120     215.2\n16         60    100       120     300.0\n17         45     90       112       NaN\n18         60    103       123     323.0\n19         45     97       125     243.0\n20         60    108       131     364.2\n21         45    100       119     282.0\n22         60    130       101     300.0\n23         45    105       132     246.0\n24         60    102       126     334.5\n25         60    100       120     250.0\n26         60     92       118     241.0\n27         60    103       132       NaN\n28         60    100       132     280.0\n29         60    102       129     380.3\n30         60     92       115     243.0\n31         45     90       112     180.1\n32         60    101       124     299.0\n33         60     93       113     223.0\n34         60    107       136     361.0\n35         60    114       140     415.0\n36         60    102       127     300.5\n37         60    100       120     300.1\n38         60    100       120     300.0\n39         45    104       129     266.0\n40         45     90       112     180.1\n41         60     98       126     286.0\n42         60    100       122     329.4\n43         60    111       138     400.0\n44         60    111       131     397.0\n45         60     99       119     273.0\n46         60    109       153     387.6\n47         45    111       136     300.0\n48         45    108       129     298.0\n49         60    111       139     397.6\n50         60    107       136     380.2\n51         80    123       146     643.1\n52         60    106       130     263.0\n53         60    118       151     486.0\n54         30    136       175     238.0\n55         60    121       146     450.7\n56         60    118       121     413.0\n57         45    115       144     305.0\n58         20    153       172     226.4\n59         45    123       152     321.0\n60        210    108       160    1376.0\n61        160    110       137    1034.4\n62        160    109       135     853.0\n63         45    118       141     341.0\n64         20    110       130     131.4\n65        180     90       130     800.4\n66        150    105       135     873.4\n67        150    107       130     816.0\n68         20    106       136     110.4\n69        300    108       143    1500.2\n70        150     97       129    1115.0\n71         60    109       153     387.6\n72         90    100       127     700.0\n73        150     97       127     953.2\n74         45    114       146     304.0\n75         90     98       125     563.2\n76         45    105       134     251.0\n77         45    110       141     300.0\n78        120    100       130     500.4\n79        270    100       131    1729.0\n80         30    159       182     319.2\n81         45    149       169     344.0\n82         30    103       139     151.1\n83        120    100       130     500.0\n84         45    100       120     225.3\n85         30    151       170     300.1\n86         45    102       136     234.0\n87        120    100       157    1000.1\n88         45    129       103     242.0\n89         20     83       107      50.3\n90        180    101       127     600.1\n91         45    107       137       NaN\n92         30     90       107     105.3\n93         15     80       100      50.5\n94         20    150       171     127.4\n95         20    151       168     229.4\n96         30     95       128     128.2\n97         25    152       168     244.2\n98         30    109       131     188.2\n99         90     93       124     604.1\n100        20     95       112      77.7\n101        90     90       110     500.0\n102        90     90       100     500.0\n103        90     90       100     500.4\n104        30     92       108      92.7\n105        30     93       128     124.0\n106       180     90       120     800.3\n107        30     90       120      86.2\n108        90     90       120     500.3\n109       210    137       184    1860.4\n110        60    102       124     325.2\n111        45    107       124     275.0\n112        15    124       139     124.2\n113        45    100       120     225.3\n114        60    108       131     367.6\n115        60    108       151     351.7\n116        60    116       141     443.0\n117        60     97       122     277.4\n118        60    105       125       NaN\n119        60    103       124     332.7\n120        30    112       137     193.9\n121        45    100       120     100.7\n122        60    119       169     336.7\n123        60    107       127     344.9\n124        60    111       151     368.5\n125        60     98       122     271.0\n126        60     97       124     275.3\n127        60    109       127     382.0\n128        90     99       125     466.4\n129        60    114       151     384.0\n130        60    104       134     342.5\n131        60    107       138     357.5\n132        60    103       133     335.0\n133        60    106       132     327.5\n134        60    103       136     339.0\n135        20    136       156     189.0\n136        45    117       143     317.7\n137        45    115       137     318.0\n138        45    113       138     308.0\n139        20    141       162     222.4\n140        60    108       135     390.0\n141        60     97       127       NaN\n142        45    100       120     250.4\n143        45    122       149     335.4\n144        60    136       170     470.2\n145        45    106       126     270.8\n146        60    107       136     400.0\n147        60    112       146     361.9\n148        30    103       127     185.0\n149        60    110       150     409.4\n150        60    106       134     343.0\n151        60    109       129     353.2\n152        60    109       138     374.0\n153        30    150       167     275.8\n154        60    105       128     328.0\n155        60    111       151     368.5\n156        60     97       131     270.4\n157        60    100       120     270.4\n158        60    114       150     382.8\n159        30     80       120     240.9\n160        30     85       120     250.4\n161        45     90       130     260.4\n162        45     95       130     270.0\n163        45    100       140     280.9\n164        60    105       140     290.8\n165        60    110       145     300.4\n166        60    115       145     310.2\n167        75    120       150     320.4\n168        75    125       150     330.4\n",
          "output_type": "stream"
        }
      ],
      "execution_count": 29
    },
    {
      "cell_type": "code",
      "source": "df_json_final = pd.DataFrame(df3)\ndf_json_final",
      "metadata": {
        "trusted": true
      },
      "outputs": [
        {
          "execution_count": 30,
          "output_type": "execute_result",
          "data": {
            "text/plain": "     Duration  Pulse  Maxpulse  Calories\n0          60    110       130     409.1\n1          60    117       145     479.0\n2          60    103       135     340.0\n3          45    109       175     282.4\n4          45    117       148     406.0\n..        ...    ...       ...       ...\n164        60    105       140     290.8\n165        60    110       145     300.4\n166        60    115       145     310.2\n167        75    120       150     320.4\n168        75    125       150     330.4\n\n[169 rows x 4 columns]",
            "text/html": "<div>\n<style scoped>\n    .dataframe tbody tr th:only-of-type {\n        vertical-align: middle;\n    }\n\n    .dataframe tbody tr th {\n        vertical-align: top;\n    }\n\n    .dataframe thead th {\n        text-align: right;\n    }\n</style>\n<table border=\"1\" class=\"dataframe\">\n  <thead>\n    <tr style=\"text-align: right;\">\n      <th></th>\n      <th>Duration</th>\n      <th>Pulse</th>\n      <th>Maxpulse</th>\n      <th>Calories</th>\n    </tr>\n  </thead>\n  <tbody>\n    <tr>\n      <th>0</th>\n      <td>60</td>\n      <td>110</td>\n      <td>130</td>\n      <td>409.1</td>\n    </tr>\n    <tr>\n      <th>1</th>\n      <td>60</td>\n      <td>117</td>\n      <td>145</td>\n      <td>479.0</td>\n    </tr>\n    <tr>\n      <th>2</th>\n      <td>60</td>\n      <td>103</td>\n      <td>135</td>\n      <td>340.0</td>\n    </tr>\n    <tr>\n      <th>3</th>\n      <td>45</td>\n      <td>109</td>\n      <td>175</td>\n      <td>282.4</td>\n    </tr>\n    <tr>\n      <th>4</th>\n      <td>45</td>\n      <td>117</td>\n      <td>148</td>\n      <td>406.0</td>\n    </tr>\n    <tr>\n      <th>...</th>\n      <td>...</td>\n      <td>...</td>\n      <td>...</td>\n      <td>...</td>\n    </tr>\n    <tr>\n      <th>164</th>\n      <td>60</td>\n      <td>105</td>\n      <td>140</td>\n      <td>290.8</td>\n    </tr>\n    <tr>\n      <th>165</th>\n      <td>60</td>\n      <td>110</td>\n      <td>145</td>\n      <td>300.4</td>\n    </tr>\n    <tr>\n      <th>166</th>\n      <td>60</td>\n      <td>115</td>\n      <td>145</td>\n      <td>310.2</td>\n    </tr>\n    <tr>\n      <th>167</th>\n      <td>75</td>\n      <td>120</td>\n      <td>150</td>\n      <td>320.4</td>\n    </tr>\n    <tr>\n      <th>168</th>\n      <td>75</td>\n      <td>125</td>\n      <td>150</td>\n      <td>330.4</td>\n    </tr>\n  </tbody>\n</table>\n<p>169 rows × 4 columns</p>\n</div>"
          },
          "metadata": {}
        }
      ],
      "execution_count": 30
    },
    {
      "cell_type": "code",
      "source": "print(type(df_json_final))",
      "metadata": {
        "trusted": true
      },
      "outputs": [
        {
          "name": "stdout",
          "text": "<class 'pandas.core.frame.DataFrame'>\n",
          "output_type": "stream"
        }
      ],
      "execution_count": 31
    },
    {
      "cell_type": "code",
      "source": "df1.head()  #read first 5 rows only",
      "metadata": {
        "trusted": true
      },
      "outputs": [
        {
          "execution_count": 32,
          "output_type": "execute_result",
          "data": {
            "text/plain": "                                                Name  \\\n0                      10-Day Green Smoothie Cleanse   \n1                                  11/22/63: A Novel   \n2            12 Rules for Life: An Antidote to Chaos   \n3                             1984 (Signet Classics)   \n4  5,000 Awesome Facts (About Everything!) (Natio...   \n\n                     Author  User Rating  Reviews  Price  Year        Genre  \n0                  JJ Smith          4.7    17350      8  2016  Non Fiction  \n1              Stephen King          4.6     2052     22  2011      Fiction  \n2        Jordan B. Peterson          4.7    18979     15  2018  Non Fiction  \n3             George Orwell          4.7    21424      6  2017      Fiction  \n4  National Geographic Kids          4.8     7665     12  2019  Non Fiction  ",
            "text/html": "<div>\n<style scoped>\n    .dataframe tbody tr th:only-of-type {\n        vertical-align: middle;\n    }\n\n    .dataframe tbody tr th {\n        vertical-align: top;\n    }\n\n    .dataframe thead th {\n        text-align: right;\n    }\n</style>\n<table border=\"1\" class=\"dataframe\">\n  <thead>\n    <tr style=\"text-align: right;\">\n      <th></th>\n      <th>Name</th>\n      <th>Author</th>\n      <th>User Rating</th>\n      <th>Reviews</th>\n      <th>Price</th>\n      <th>Year</th>\n      <th>Genre</th>\n    </tr>\n  </thead>\n  <tbody>\n    <tr>\n      <th>0</th>\n      <td>10-Day Green Smoothie Cleanse</td>\n      <td>JJ Smith</td>\n      <td>4.7</td>\n      <td>17350</td>\n      <td>8</td>\n      <td>2016</td>\n      <td>Non Fiction</td>\n    </tr>\n    <tr>\n      <th>1</th>\n      <td>11/22/63: A Novel</td>\n      <td>Stephen King</td>\n      <td>4.6</td>\n      <td>2052</td>\n      <td>22</td>\n      <td>2011</td>\n      <td>Fiction</td>\n    </tr>\n    <tr>\n      <th>2</th>\n      <td>12 Rules for Life: An Antidote to Chaos</td>\n      <td>Jordan B. Peterson</td>\n      <td>4.7</td>\n      <td>18979</td>\n      <td>15</td>\n      <td>2018</td>\n      <td>Non Fiction</td>\n    </tr>\n    <tr>\n      <th>3</th>\n      <td>1984 (Signet Classics)</td>\n      <td>George Orwell</td>\n      <td>4.7</td>\n      <td>21424</td>\n      <td>6</td>\n      <td>2017</td>\n      <td>Fiction</td>\n    </tr>\n    <tr>\n      <th>4</th>\n      <td>5,000 Awesome Facts (About Everything!) (Natio...</td>\n      <td>National Geographic Kids</td>\n      <td>4.8</td>\n      <td>7665</td>\n      <td>12</td>\n      <td>2019</td>\n      <td>Non Fiction</td>\n    </tr>\n  </tbody>\n</table>\n</div>"
          },
          "metadata": {}
        }
      ],
      "execution_count": 32
    },
    {
      "cell_type": "code",
      "source": "df1.head(30)",
      "metadata": {
        "trusted": true
      },
      "outputs": [
        {
          "execution_count": 35,
          "output_type": "execute_result",
          "data": {
            "text/plain": "                                                 Name  \\\n0                       10-Day Green Smoothie Cleanse   \n1                                   11/22/63: A Novel   \n2             12 Rules for Life: An Antidote to Chaos   \n3                              1984 (Signet Classics)   \n4   5,000 Awesome Facts (About Everything!) (Natio...   \n5       A Dance with Dragons (A Song of Ice and Fire)   \n6   A Game of Thrones / A Clash of Kings / A Storm...   \n7                      A Gentleman in Moscow: A Novel   \n8       A Higher Loyalty: Truth, Lies, and Leadership   \n9                           A Man Called Ove: A Novel   \n10                          A Man Called Ove: A Novel   \n11  A Patriot's History of the United States: From...   \n12                            A Stolen Life: A Memoir   \n13                   A Wrinkle in Time (Time Quintet)   \n14  Act Like a Lady, Think Like a Man: What Men Re...   \n15  Adult Coloring Book Designs: Stress Relief Col...   \n16  Adult Coloring Book: Stress Relieving Animal D...   \n17     Adult Coloring Book: Stress Relieving Patterns   \n18  Adult Coloring Books: A Coloring Book for Adul...   \n19                                 Alexander Hamilton   \n20                        All the Light We Cannot See   \n21                        All the Light We Cannot See   \n22                                          Allegiant   \n23  American Sniper: The Autobiography of the Most...   \n24                           And the Mountains Echoed   \n25  Arguing with Idiots: How to Stop Small Minds a...   \n26                 Astrophysics for People in a Hurry   \n27                Autobiography of Mark Twain, Vol. 1   \n28                       Baby Touch and Feel: Animals   \n29           Balance (Angie's Extreme Stress Menders)   \n\n                         Author  User Rating  Reviews  Price  Year  \\\n0                      JJ Smith          4.7    17350      8  2016   \n1                  Stephen King          4.6     2052     22  2011   \n2            Jordan B. Peterson          4.7    18979     15  2018   \n3                 George Orwell          4.7    21424      6  2017   \n4      National Geographic Kids          4.8     7665     12  2019   \n5           George R. R. Martin          4.4    12643     11  2011   \n6           George R. R. Martin          4.7    19735     30  2014   \n7                   Amor Towles          4.7    19699     15  2017   \n8                   James Comey          4.7     5983      3  2018   \n9               Fredrik Backman          4.6    23848      8  2016   \n10              Fredrik Backman          4.6    23848      8  2017   \n11             Larry Schweikart          4.6      460      2  2010   \n12                Jaycee Dugard          4.6     4149     32  2011   \n13            Madeleine L'Engle          4.5     5153      5  2018   \n14                 Steve Harvey          4.6     5013     17  2009   \n15  Adult Coloring Book Designs          4.5     2313      4  2016   \n16           Blue Star Coloring          4.6     2925      6  2015   \n17           Blue Star Coloring          4.4     2951      6  2015   \n18    Coloring Books for Adults          4.5     2426      8  2015   \n19                  Ron Chernow          4.8     9198     13  2016   \n20                Anthony Doerr          4.6    36348     14  2014   \n21                Anthony Doerr          4.6    36348     14  2015   \n22                Veronica Roth          3.9     6310     13  2013   \n23                   Chris Kyle          4.6    15921      9  2015   \n24              Khaled Hosseini          4.3    12159     13  2013   \n25                   Glenn Beck          4.6      798      5  2009   \n26          Neil deGrasse Tyson          4.7     9374      9  2017   \n27                   Mark Twain          4.2      491     14  2010   \n28                           DK          4.6     5360      5  2015   \n29                  Angie Grace          4.6     1909     11  2015   \n\n          Genre  \n0   Non Fiction  \n1       Fiction  \n2   Non Fiction  \n3       Fiction  \n4   Non Fiction  \n5       Fiction  \n6       Fiction  \n7       Fiction  \n8   Non Fiction  \n9       Fiction  \n10      Fiction  \n11  Non Fiction  \n12  Non Fiction  \n13      Fiction  \n14  Non Fiction  \n15  Non Fiction  \n16  Non Fiction  \n17  Non Fiction  \n18  Non Fiction  \n19  Non Fiction  \n20      Fiction  \n21      Fiction  \n22      Fiction  \n23  Non Fiction  \n24      Fiction  \n25  Non Fiction  \n26  Non Fiction  \n27  Non Fiction  \n28  Non Fiction  \n29  Non Fiction  ",
            "text/html": "<div>\n<style scoped>\n    .dataframe tbody tr th:only-of-type {\n        vertical-align: middle;\n    }\n\n    .dataframe tbody tr th {\n        vertical-align: top;\n    }\n\n    .dataframe thead th {\n        text-align: right;\n    }\n</style>\n<table border=\"1\" class=\"dataframe\">\n  <thead>\n    <tr style=\"text-align: right;\">\n      <th></th>\n      <th>Name</th>\n      <th>Author</th>\n      <th>User Rating</th>\n      <th>Reviews</th>\n      <th>Price</th>\n      <th>Year</th>\n      <th>Genre</th>\n    </tr>\n  </thead>\n  <tbody>\n    <tr>\n      <th>0</th>\n      <td>10-Day Green Smoothie Cleanse</td>\n      <td>JJ Smith</td>\n      <td>4.7</td>\n      <td>17350</td>\n      <td>8</td>\n      <td>2016</td>\n      <td>Non Fiction</td>\n    </tr>\n    <tr>\n      <th>1</th>\n      <td>11/22/63: A Novel</td>\n      <td>Stephen King</td>\n      <td>4.6</td>\n      <td>2052</td>\n      <td>22</td>\n      <td>2011</td>\n      <td>Fiction</td>\n    </tr>\n    <tr>\n      <th>2</th>\n      <td>12 Rules for Life: An Antidote to Chaos</td>\n      <td>Jordan B. Peterson</td>\n      <td>4.7</td>\n      <td>18979</td>\n      <td>15</td>\n      <td>2018</td>\n      <td>Non Fiction</td>\n    </tr>\n    <tr>\n      <th>3</th>\n      <td>1984 (Signet Classics)</td>\n      <td>George Orwell</td>\n      <td>4.7</td>\n      <td>21424</td>\n      <td>6</td>\n      <td>2017</td>\n      <td>Fiction</td>\n    </tr>\n    <tr>\n      <th>4</th>\n      <td>5,000 Awesome Facts (About Everything!) (Natio...</td>\n      <td>National Geographic Kids</td>\n      <td>4.8</td>\n      <td>7665</td>\n      <td>12</td>\n      <td>2019</td>\n      <td>Non Fiction</td>\n    </tr>\n    <tr>\n      <th>5</th>\n      <td>A Dance with Dragons (A Song of Ice and Fire)</td>\n      <td>George R. R. Martin</td>\n      <td>4.4</td>\n      <td>12643</td>\n      <td>11</td>\n      <td>2011</td>\n      <td>Fiction</td>\n    </tr>\n    <tr>\n      <th>6</th>\n      <td>A Game of Thrones / A Clash of Kings / A Storm...</td>\n      <td>George R. R. Martin</td>\n      <td>4.7</td>\n      <td>19735</td>\n      <td>30</td>\n      <td>2014</td>\n      <td>Fiction</td>\n    </tr>\n    <tr>\n      <th>7</th>\n      <td>A Gentleman in Moscow: A Novel</td>\n      <td>Amor Towles</td>\n      <td>4.7</td>\n      <td>19699</td>\n      <td>15</td>\n      <td>2017</td>\n      <td>Fiction</td>\n    </tr>\n    <tr>\n      <th>8</th>\n      <td>A Higher Loyalty: Truth, Lies, and Leadership</td>\n      <td>James Comey</td>\n      <td>4.7</td>\n      <td>5983</td>\n      <td>3</td>\n      <td>2018</td>\n      <td>Non Fiction</td>\n    </tr>\n    <tr>\n      <th>9</th>\n      <td>A Man Called Ove: A Novel</td>\n      <td>Fredrik Backman</td>\n      <td>4.6</td>\n      <td>23848</td>\n      <td>8</td>\n      <td>2016</td>\n      <td>Fiction</td>\n    </tr>\n    <tr>\n      <th>10</th>\n      <td>A Man Called Ove: A Novel</td>\n      <td>Fredrik Backman</td>\n      <td>4.6</td>\n      <td>23848</td>\n      <td>8</td>\n      <td>2017</td>\n      <td>Fiction</td>\n    </tr>\n    <tr>\n      <th>11</th>\n      <td>A Patriot's History of the United States: From...</td>\n      <td>Larry Schweikart</td>\n      <td>4.6</td>\n      <td>460</td>\n      <td>2</td>\n      <td>2010</td>\n      <td>Non Fiction</td>\n    </tr>\n    <tr>\n      <th>12</th>\n      <td>A Stolen Life: A Memoir</td>\n      <td>Jaycee Dugard</td>\n      <td>4.6</td>\n      <td>4149</td>\n      <td>32</td>\n      <td>2011</td>\n      <td>Non Fiction</td>\n    </tr>\n    <tr>\n      <th>13</th>\n      <td>A Wrinkle in Time (Time Quintet)</td>\n      <td>Madeleine L'Engle</td>\n      <td>4.5</td>\n      <td>5153</td>\n      <td>5</td>\n      <td>2018</td>\n      <td>Fiction</td>\n    </tr>\n    <tr>\n      <th>14</th>\n      <td>Act Like a Lady, Think Like a Man: What Men Re...</td>\n      <td>Steve Harvey</td>\n      <td>4.6</td>\n      <td>5013</td>\n      <td>17</td>\n      <td>2009</td>\n      <td>Non Fiction</td>\n    </tr>\n    <tr>\n      <th>15</th>\n      <td>Adult Coloring Book Designs: Stress Relief Col...</td>\n      <td>Adult Coloring Book Designs</td>\n      <td>4.5</td>\n      <td>2313</td>\n      <td>4</td>\n      <td>2016</td>\n      <td>Non Fiction</td>\n    </tr>\n    <tr>\n      <th>16</th>\n      <td>Adult Coloring Book: Stress Relieving Animal D...</td>\n      <td>Blue Star Coloring</td>\n      <td>4.6</td>\n      <td>2925</td>\n      <td>6</td>\n      <td>2015</td>\n      <td>Non Fiction</td>\n    </tr>\n    <tr>\n      <th>17</th>\n      <td>Adult Coloring Book: Stress Relieving Patterns</td>\n      <td>Blue Star Coloring</td>\n      <td>4.4</td>\n      <td>2951</td>\n      <td>6</td>\n      <td>2015</td>\n      <td>Non Fiction</td>\n    </tr>\n    <tr>\n      <th>18</th>\n      <td>Adult Coloring Books: A Coloring Book for Adul...</td>\n      <td>Coloring Books for Adults</td>\n      <td>4.5</td>\n      <td>2426</td>\n      <td>8</td>\n      <td>2015</td>\n      <td>Non Fiction</td>\n    </tr>\n    <tr>\n      <th>19</th>\n      <td>Alexander Hamilton</td>\n      <td>Ron Chernow</td>\n      <td>4.8</td>\n      <td>9198</td>\n      <td>13</td>\n      <td>2016</td>\n      <td>Non Fiction</td>\n    </tr>\n    <tr>\n      <th>20</th>\n      <td>All the Light We Cannot See</td>\n      <td>Anthony Doerr</td>\n      <td>4.6</td>\n      <td>36348</td>\n      <td>14</td>\n      <td>2014</td>\n      <td>Fiction</td>\n    </tr>\n    <tr>\n      <th>21</th>\n      <td>All the Light We Cannot See</td>\n      <td>Anthony Doerr</td>\n      <td>4.6</td>\n      <td>36348</td>\n      <td>14</td>\n      <td>2015</td>\n      <td>Fiction</td>\n    </tr>\n    <tr>\n      <th>22</th>\n      <td>Allegiant</td>\n      <td>Veronica Roth</td>\n      <td>3.9</td>\n      <td>6310</td>\n      <td>13</td>\n      <td>2013</td>\n      <td>Fiction</td>\n    </tr>\n    <tr>\n      <th>23</th>\n      <td>American Sniper: The Autobiography of the Most...</td>\n      <td>Chris Kyle</td>\n      <td>4.6</td>\n      <td>15921</td>\n      <td>9</td>\n      <td>2015</td>\n      <td>Non Fiction</td>\n    </tr>\n    <tr>\n      <th>24</th>\n      <td>And the Mountains Echoed</td>\n      <td>Khaled Hosseini</td>\n      <td>4.3</td>\n      <td>12159</td>\n      <td>13</td>\n      <td>2013</td>\n      <td>Fiction</td>\n    </tr>\n    <tr>\n      <th>25</th>\n      <td>Arguing with Idiots: How to Stop Small Minds a...</td>\n      <td>Glenn Beck</td>\n      <td>4.6</td>\n      <td>798</td>\n      <td>5</td>\n      <td>2009</td>\n      <td>Non Fiction</td>\n    </tr>\n    <tr>\n      <th>26</th>\n      <td>Astrophysics for People in a Hurry</td>\n      <td>Neil deGrasse Tyson</td>\n      <td>4.7</td>\n      <td>9374</td>\n      <td>9</td>\n      <td>2017</td>\n      <td>Non Fiction</td>\n    </tr>\n    <tr>\n      <th>27</th>\n      <td>Autobiography of Mark Twain, Vol. 1</td>\n      <td>Mark Twain</td>\n      <td>4.2</td>\n      <td>491</td>\n      <td>14</td>\n      <td>2010</td>\n      <td>Non Fiction</td>\n    </tr>\n    <tr>\n      <th>28</th>\n      <td>Baby Touch and Feel: Animals</td>\n      <td>DK</td>\n      <td>4.6</td>\n      <td>5360</td>\n      <td>5</td>\n      <td>2015</td>\n      <td>Non Fiction</td>\n    </tr>\n    <tr>\n      <th>29</th>\n      <td>Balance (Angie's Extreme Stress Menders)</td>\n      <td>Angie Grace</td>\n      <td>4.6</td>\n      <td>1909</td>\n      <td>11</td>\n      <td>2015</td>\n      <td>Non Fiction</td>\n    </tr>\n  </tbody>\n</table>\n</div>"
          },
          "metadata": {}
        }
      ],
      "execution_count": 35
    },
    {
      "cell_type": "code",
      "source": "df1.tail()   #read last 5 rows",
      "metadata": {
        "trusted": true
      },
      "outputs": [
        {
          "execution_count": 39,
          "output_type": "execute_result",
          "data": {
            "text/plain": "                                                  Name       Author  \\\n545       Wrecking Ball (Diary of a Wimpy Kid Book 14)  Jeff Kinney   \n546  You Are a Badass: How to Stop Doubting Your Gr...  Jen Sincero   \n547  You Are a Badass: How to Stop Doubting Your Gr...  Jen Sincero   \n548  You Are a Badass: How to Stop Doubting Your Gr...  Jen Sincero   \n549  You Are a Badass: How to Stop Doubting Your Gr...  Jen Sincero   \n\n     User Rating  Reviews  Price  Year        Genre  \n545          4.9     9413      8  2019      Fiction  \n546          4.7    14331      8  2016  Non Fiction  \n547          4.7    14331      8  2017  Non Fiction  \n548          4.7    14331      8  2018  Non Fiction  \n549          4.7    14331      8  2019  Non Fiction  ",
            "text/html": "<div>\n<style scoped>\n    .dataframe tbody tr th:only-of-type {\n        vertical-align: middle;\n    }\n\n    .dataframe tbody tr th {\n        vertical-align: top;\n    }\n\n    .dataframe thead th {\n        text-align: right;\n    }\n</style>\n<table border=\"1\" class=\"dataframe\">\n  <thead>\n    <tr style=\"text-align: right;\">\n      <th></th>\n      <th>Name</th>\n      <th>Author</th>\n      <th>User Rating</th>\n      <th>Reviews</th>\n      <th>Price</th>\n      <th>Year</th>\n      <th>Genre</th>\n    </tr>\n  </thead>\n  <tbody>\n    <tr>\n      <th>545</th>\n      <td>Wrecking Ball (Diary of a Wimpy Kid Book 14)</td>\n      <td>Jeff Kinney</td>\n      <td>4.9</td>\n      <td>9413</td>\n      <td>8</td>\n      <td>2019</td>\n      <td>Fiction</td>\n    </tr>\n    <tr>\n      <th>546</th>\n      <td>You Are a Badass: How to Stop Doubting Your Gr...</td>\n      <td>Jen Sincero</td>\n      <td>4.7</td>\n      <td>14331</td>\n      <td>8</td>\n      <td>2016</td>\n      <td>Non Fiction</td>\n    </tr>\n    <tr>\n      <th>547</th>\n      <td>You Are a Badass: How to Stop Doubting Your Gr...</td>\n      <td>Jen Sincero</td>\n      <td>4.7</td>\n      <td>14331</td>\n      <td>8</td>\n      <td>2017</td>\n      <td>Non Fiction</td>\n    </tr>\n    <tr>\n      <th>548</th>\n      <td>You Are a Badass: How to Stop Doubting Your Gr...</td>\n      <td>Jen Sincero</td>\n      <td>4.7</td>\n      <td>14331</td>\n      <td>8</td>\n      <td>2018</td>\n      <td>Non Fiction</td>\n    </tr>\n    <tr>\n      <th>549</th>\n      <td>You Are a Badass: How to Stop Doubting Your Gr...</td>\n      <td>Jen Sincero</td>\n      <td>4.7</td>\n      <td>14331</td>\n      <td>8</td>\n      <td>2019</td>\n      <td>Non Fiction</td>\n    </tr>\n  </tbody>\n</table>\n</div>"
          },
          "metadata": {}
        }
      ],
      "execution_count": 39
    },
    {
      "cell_type": "code",
      "source": "df1.tail(10)",
      "metadata": {
        "trusted": true
      },
      "outputs": [
        {
          "execution_count": 40,
          "output_type": "execute_result",
          "data": {
            "text/plain": "                                                  Name         Author  \\\n540                                             Wonder  R. J. Palacio   \n541                                             Wonder  R. J. Palacio   \n542                                             Wonder  R. J. Palacio   \n543                                             Wonder  R. J. Palacio   \n544                                             Wonder  R. J. Palacio   \n545       Wrecking Ball (Diary of a Wimpy Kid Book 14)    Jeff Kinney   \n546  You Are a Badass: How to Stop Doubting Your Gr...    Jen Sincero   \n547  You Are a Badass: How to Stop Doubting Your Gr...    Jen Sincero   \n548  You Are a Badass: How to Stop Doubting Your Gr...    Jen Sincero   \n549  You Are a Badass: How to Stop Doubting Your Gr...    Jen Sincero   \n\n     User Rating  Reviews  Price  Year        Genre  \n540          4.8    21625      9  2013      Fiction  \n541          4.8    21625      9  2014      Fiction  \n542          4.8    21625      9  2015      Fiction  \n543          4.8    21625      9  2016      Fiction  \n544          4.8    21625      9  2017      Fiction  \n545          4.9     9413      8  2019      Fiction  \n546          4.7    14331      8  2016  Non Fiction  \n547          4.7    14331      8  2017  Non Fiction  \n548          4.7    14331      8  2018  Non Fiction  \n549          4.7    14331      8  2019  Non Fiction  ",
            "text/html": "<div>\n<style scoped>\n    .dataframe tbody tr th:only-of-type {\n        vertical-align: middle;\n    }\n\n    .dataframe tbody tr th {\n        vertical-align: top;\n    }\n\n    .dataframe thead th {\n        text-align: right;\n    }\n</style>\n<table border=\"1\" class=\"dataframe\">\n  <thead>\n    <tr style=\"text-align: right;\">\n      <th></th>\n      <th>Name</th>\n      <th>Author</th>\n      <th>User Rating</th>\n      <th>Reviews</th>\n      <th>Price</th>\n      <th>Year</th>\n      <th>Genre</th>\n    </tr>\n  </thead>\n  <tbody>\n    <tr>\n      <th>540</th>\n      <td>Wonder</td>\n      <td>R. J. Palacio</td>\n      <td>4.8</td>\n      <td>21625</td>\n      <td>9</td>\n      <td>2013</td>\n      <td>Fiction</td>\n    </tr>\n    <tr>\n      <th>541</th>\n      <td>Wonder</td>\n      <td>R. J. Palacio</td>\n      <td>4.8</td>\n      <td>21625</td>\n      <td>9</td>\n      <td>2014</td>\n      <td>Fiction</td>\n    </tr>\n    <tr>\n      <th>542</th>\n      <td>Wonder</td>\n      <td>R. J. Palacio</td>\n      <td>4.8</td>\n      <td>21625</td>\n      <td>9</td>\n      <td>2015</td>\n      <td>Fiction</td>\n    </tr>\n    <tr>\n      <th>543</th>\n      <td>Wonder</td>\n      <td>R. J. Palacio</td>\n      <td>4.8</td>\n      <td>21625</td>\n      <td>9</td>\n      <td>2016</td>\n      <td>Fiction</td>\n    </tr>\n    <tr>\n      <th>544</th>\n      <td>Wonder</td>\n      <td>R. J. Palacio</td>\n      <td>4.8</td>\n      <td>21625</td>\n      <td>9</td>\n      <td>2017</td>\n      <td>Fiction</td>\n    </tr>\n    <tr>\n      <th>545</th>\n      <td>Wrecking Ball (Diary of a Wimpy Kid Book 14)</td>\n      <td>Jeff Kinney</td>\n      <td>4.9</td>\n      <td>9413</td>\n      <td>8</td>\n      <td>2019</td>\n      <td>Fiction</td>\n    </tr>\n    <tr>\n      <th>546</th>\n      <td>You Are a Badass: How to Stop Doubting Your Gr...</td>\n      <td>Jen Sincero</td>\n      <td>4.7</td>\n      <td>14331</td>\n      <td>8</td>\n      <td>2016</td>\n      <td>Non Fiction</td>\n    </tr>\n    <tr>\n      <th>547</th>\n      <td>You Are a Badass: How to Stop Doubting Your Gr...</td>\n      <td>Jen Sincero</td>\n      <td>4.7</td>\n      <td>14331</td>\n      <td>8</td>\n      <td>2017</td>\n      <td>Non Fiction</td>\n    </tr>\n    <tr>\n      <th>548</th>\n      <td>You Are a Badass: How to Stop Doubting Your Gr...</td>\n      <td>Jen Sincero</td>\n      <td>4.7</td>\n      <td>14331</td>\n      <td>8</td>\n      <td>2018</td>\n      <td>Non Fiction</td>\n    </tr>\n    <tr>\n      <th>549</th>\n      <td>You Are a Badass: How to Stop Doubting Your Gr...</td>\n      <td>Jen Sincero</td>\n      <td>4.7</td>\n      <td>14331</td>\n      <td>8</td>\n      <td>2019</td>\n      <td>Non Fiction</td>\n    </tr>\n  </tbody>\n</table>\n</div>"
          },
          "metadata": {}
        }
      ],
      "execution_count": 40
    },
    {
      "cell_type": "code",
      "source": "# We can get info about our data using info() method.\n# The info() method provides the essential information about our dataset:\n# 1. the number of rows and columns\n# 2. the number of non-null values\n# 3. the type of data is in each column.\n# 4. the amount of memory our dataframe is using\ndf1.info()",
      "metadata": {
        "trusted": true
      },
      "outputs": [
        {
          "name": "stdout",
          "text": "<class 'pandas.core.frame.DataFrame'>\nRangeIndex: 550 entries, 0 to 549\nData columns (total 7 columns):\n #   Column       Non-Null Count  Dtype  \n---  ------       --------------  -----  \n 0   Name         550 non-null    object \n 1   Author       550 non-null    object \n 2   User Rating  550 non-null    float64\n 3   Reviews      550 non-null    int64  \n 4   Price        550 non-null    int64  \n 5   Year         550 non-null    int64  \n 6   Genre        550 non-null    object \ndtypes: float64(1), int64(3), object(3)\nmemory usage: 23.7+ KB\n",
          "output_type": "stream"
        }
      ],
      "execution_count": 42
    },
    {
      "cell_type": "code",
      "source": "# The shape attribute is a useful attribute that displays shape, i.e, tuple of rows and columns\ndf1.shape",
      "metadata": {
        "trusted": true
      },
      "outputs": [
        {
          "execution_count": 43,
          "output_type": "execute_result",
          "data": {
            "text/plain": "(550, 7)"
          },
          "metadata": {}
        }
      ],
      "execution_count": 43
    },
    {
      "cell_type": "code",
      "source": "# To print the column names  of our dataframe use .column attribute\ndf1.columns",
      "metadata": {
        "trusted": true
      },
      "outputs": [
        {
          "execution_count": 44,
          "output_type": "execute_result",
          "data": {
            "text/plain": "Index(['Name', 'Author', 'User Rating', 'Reviews', 'Price', 'Year', 'Genre'], dtype='object')"
          },
          "metadata": {}
        }
      ],
      "execution_count": 44
    },
    {
      "cell_type": "code",
      "source": "#  the rename() method to rename some or all columns of a datafram via a dict\ndf1.rename(columns={\n    'Author':'Writer',\n    'Price':'Amount'\n}, inplace=True)\ndf1.columns",
      "metadata": {
        "trusted": true
      },
      "outputs": [
        {
          "execution_count": 45,
          "output_type": "execute_result",
          "data": {
            "text/plain": "Index(['Name', 'Writer', 'User Rating', 'Reviews', 'Amount', 'Year', 'Genre'], dtype='object')"
          },
          "metadata": {}
        }
      ],
      "execution_count": 45
    },
    {
      "cell_type": "code",
      "source": "df_ramen=pd.read_csv('ramen-ratings.csv')\ndf_ramen",
      "metadata": {
        "trusted": true
      },
      "outputs": [
        {
          "execution_count": 53,
          "output_type": "execute_result",
          "data": {
            "text/plain": "      Review #           Brand  \\\n0         2580       New Touch   \n1         2579        Just Way   \n2         2578          Nissin   \n3         2577         Wei Lih   \n4         2576  Ching's Secret   \n...        ...             ...   \n2575         5           Vifon   \n2576         4         Wai Wai   \n2577         3         Wai Wai   \n2578         2         Wai Wai   \n2579         1        Westbrae   \n\n                                                Variety Style   Country  \\\n0                             T's Restaurant Tantanmen    Cup     Japan   \n1     Noodles Spicy Hot Sesame Spicy Hot Sesame Guan...  Pack    Taiwan   \n2                         Cup Noodles Chicken Vegetable   Cup       USA   \n3                         GGE Ramen Snack Tomato Flavor  Pack    Taiwan   \n4                                       Singapore Curry  Pack     India   \n...                                                 ...   ...       ...   \n2575  Hu Tiu Nam Vang [\"Phnom Penh\" style] Asian Sty...  Bowl   Vietnam   \n2576                     Oriental Style Instant Noodles  Pack  Thailand   \n2577                                     Tom Yum Shrimp  Pack  Thailand   \n2578                               Tom Yum Chili Flavor  Pack  Thailand   \n2579                                         Miso Ramen  Pack       USA   \n\n      Stars Top Ten  \n0      3.75     NaN  \n1      1.00     NaN  \n2       NaN     NaN  \n3      2.75     NaN  \n4      3.75     NaN  \n...     ...     ...  \n2575   3.50     NaN  \n2576   1.00     NaN  \n2577   2.00     NaN  \n2578   2.00     NaN  \n2579   0.50     NaN  \n\n[2580 rows x 7 columns]",
            "text/html": "<div>\n<style scoped>\n    .dataframe tbody tr th:only-of-type {\n        vertical-align: middle;\n    }\n\n    .dataframe tbody tr th {\n        vertical-align: top;\n    }\n\n    .dataframe thead th {\n        text-align: right;\n    }\n</style>\n<table border=\"1\" class=\"dataframe\">\n  <thead>\n    <tr style=\"text-align: right;\">\n      <th></th>\n      <th>Review #</th>\n      <th>Brand</th>\n      <th>Variety</th>\n      <th>Style</th>\n      <th>Country</th>\n      <th>Stars</th>\n      <th>Top Ten</th>\n    </tr>\n  </thead>\n  <tbody>\n    <tr>\n      <th>0</th>\n      <td>2580</td>\n      <td>New Touch</td>\n      <td>T's Restaurant Tantanmen</td>\n      <td>Cup</td>\n      <td>Japan</td>\n      <td>3.75</td>\n      <td>NaN</td>\n    </tr>\n    <tr>\n      <th>1</th>\n      <td>2579</td>\n      <td>Just Way</td>\n      <td>Noodles Spicy Hot Sesame Spicy Hot Sesame Guan...</td>\n      <td>Pack</td>\n      <td>Taiwan</td>\n      <td>1.00</td>\n      <td>NaN</td>\n    </tr>\n    <tr>\n      <th>2</th>\n      <td>2578</td>\n      <td>Nissin</td>\n      <td>Cup Noodles Chicken Vegetable</td>\n      <td>Cup</td>\n      <td>USA</td>\n      <td>NaN</td>\n      <td>NaN</td>\n    </tr>\n    <tr>\n      <th>3</th>\n      <td>2577</td>\n      <td>Wei Lih</td>\n      <td>GGE Ramen Snack Tomato Flavor</td>\n      <td>Pack</td>\n      <td>Taiwan</td>\n      <td>2.75</td>\n      <td>NaN</td>\n    </tr>\n    <tr>\n      <th>4</th>\n      <td>2576</td>\n      <td>Ching's Secret</td>\n      <td>Singapore Curry</td>\n      <td>Pack</td>\n      <td>India</td>\n      <td>3.75</td>\n      <td>NaN</td>\n    </tr>\n    <tr>\n      <th>...</th>\n      <td>...</td>\n      <td>...</td>\n      <td>...</td>\n      <td>...</td>\n      <td>...</td>\n      <td>...</td>\n      <td>...</td>\n    </tr>\n    <tr>\n      <th>2575</th>\n      <td>5</td>\n      <td>Vifon</td>\n      <td>Hu Tiu Nam Vang [\"Phnom Penh\" style] Asian Sty...</td>\n      <td>Bowl</td>\n      <td>Vietnam</td>\n      <td>3.50</td>\n      <td>NaN</td>\n    </tr>\n    <tr>\n      <th>2576</th>\n      <td>4</td>\n      <td>Wai Wai</td>\n      <td>Oriental Style Instant Noodles</td>\n      <td>Pack</td>\n      <td>Thailand</td>\n      <td>1.00</td>\n      <td>NaN</td>\n    </tr>\n    <tr>\n      <th>2577</th>\n      <td>3</td>\n      <td>Wai Wai</td>\n      <td>Tom Yum Shrimp</td>\n      <td>Pack</td>\n      <td>Thailand</td>\n      <td>2.00</td>\n      <td>NaN</td>\n    </tr>\n    <tr>\n      <th>2578</th>\n      <td>2</td>\n      <td>Wai Wai</td>\n      <td>Tom Yum Chili Flavor</td>\n      <td>Pack</td>\n      <td>Thailand</td>\n      <td>2.00</td>\n      <td>NaN</td>\n    </tr>\n    <tr>\n      <th>2579</th>\n      <td>1</td>\n      <td>Westbrae</td>\n      <td>Miso Ramen</td>\n      <td>Pack</td>\n      <td>USA</td>\n      <td>0.50</td>\n      <td>NaN</td>\n    </tr>\n  </tbody>\n</table>\n<p>2580 rows × 7 columns</p>\n</div>"
          },
          "metadata": {}
        }
      ],
      "execution_count": 53
    },
    {
      "cell_type": "code",
      "source": "# Demo to Handle Nulls in each column of our dataset.\n# isnull() returns a dataframe with each cell either true or false depending on cell's null status.\ndf_ramen.isnull()",
      "metadata": {
        "trusted": true
      },
      "outputs": [
        {
          "execution_count": 54,
          "output_type": "execute_result",
          "data": {
            "text/plain": "      Review #  Brand  Variety  Style  Country  Stars  Top Ten\n0        False  False    False  False    False  False     True\n1        False  False    False  False    False  False     True\n2        False  False    False  False    False   True     True\n3        False  False    False  False    False  False     True\n4        False  False    False  False    False  False     True\n...        ...    ...      ...    ...      ...    ...      ...\n2575     False  False    False  False    False  False     True\n2576     False  False    False  False    False  False     True\n2577     False  False    False  False    False  False     True\n2578     False  False    False  False    False  False     True\n2579     False  False    False  False    False  False     True\n\n[2580 rows x 7 columns]",
            "text/html": "<div>\n<style scoped>\n    .dataframe tbody tr th:only-of-type {\n        vertical-align: middle;\n    }\n\n    .dataframe tbody tr th {\n        vertical-align: top;\n    }\n\n    .dataframe thead th {\n        text-align: right;\n    }\n</style>\n<table border=\"1\" class=\"dataframe\">\n  <thead>\n    <tr style=\"text-align: right;\">\n      <th></th>\n      <th>Review #</th>\n      <th>Brand</th>\n      <th>Variety</th>\n      <th>Style</th>\n      <th>Country</th>\n      <th>Stars</th>\n      <th>Top Ten</th>\n    </tr>\n  </thead>\n  <tbody>\n    <tr>\n      <th>0</th>\n      <td>False</td>\n      <td>False</td>\n      <td>False</td>\n      <td>False</td>\n      <td>False</td>\n      <td>False</td>\n      <td>True</td>\n    </tr>\n    <tr>\n      <th>1</th>\n      <td>False</td>\n      <td>False</td>\n      <td>False</td>\n      <td>False</td>\n      <td>False</td>\n      <td>False</td>\n      <td>True</td>\n    </tr>\n    <tr>\n      <th>2</th>\n      <td>False</td>\n      <td>False</td>\n      <td>False</td>\n      <td>False</td>\n      <td>False</td>\n      <td>True</td>\n      <td>True</td>\n    </tr>\n    <tr>\n      <th>3</th>\n      <td>False</td>\n      <td>False</td>\n      <td>False</td>\n      <td>False</td>\n      <td>False</td>\n      <td>False</td>\n      <td>True</td>\n    </tr>\n    <tr>\n      <th>4</th>\n      <td>False</td>\n      <td>False</td>\n      <td>False</td>\n      <td>False</td>\n      <td>False</td>\n      <td>False</td>\n      <td>True</td>\n    </tr>\n    <tr>\n      <th>...</th>\n      <td>...</td>\n      <td>...</td>\n      <td>...</td>\n      <td>...</td>\n      <td>...</td>\n      <td>...</td>\n      <td>...</td>\n    </tr>\n    <tr>\n      <th>2575</th>\n      <td>False</td>\n      <td>False</td>\n      <td>False</td>\n      <td>False</td>\n      <td>False</td>\n      <td>False</td>\n      <td>True</td>\n    </tr>\n    <tr>\n      <th>2576</th>\n      <td>False</td>\n      <td>False</td>\n      <td>False</td>\n      <td>False</td>\n      <td>False</td>\n      <td>False</td>\n      <td>True</td>\n    </tr>\n    <tr>\n      <th>2577</th>\n      <td>False</td>\n      <td>False</td>\n      <td>False</td>\n      <td>False</td>\n      <td>False</td>\n      <td>False</td>\n      <td>True</td>\n    </tr>\n    <tr>\n      <th>2578</th>\n      <td>False</td>\n      <td>False</td>\n      <td>False</td>\n      <td>False</td>\n      <td>False</td>\n      <td>False</td>\n      <td>True</td>\n    </tr>\n    <tr>\n      <th>2579</th>\n      <td>False</td>\n      <td>False</td>\n      <td>False</td>\n      <td>False</td>\n      <td>False</td>\n      <td>False</td>\n      <td>True</td>\n    </tr>\n  </tbody>\n</table>\n<p>2580 rows × 7 columns</p>\n</div>"
          },
          "metadata": {}
        }
      ],
      "execution_count": 54
    },
    {
      "cell_type": "code",
      "source": "# To count the number of nulls in each columns using an aggregate function\n# isnull() method is usually used in conjunction with methods like sum\ndf_ramen=pd.read_csv('ramen-ratings.csv')\ndf_ramen.isnull().sum()",
      "metadata": {
        "trusted": true
      },
      "outputs": [
        {
          "execution_count": 56,
          "output_type": "execute_result",
          "data": {
            "text/plain": "Review #       0\nBrand          0\nVariety        0\nStyle          2\nCountry        0\nStars         21\nTop Ten     2539\ndtype: int64"
          },
          "metadata": {}
        }
      ],
      "execution_count": 56
    },
    {
      "cell_type": "code",
      "source": "# Imputation\n# Now filling null values using fillna() ins \"Style\" column:\n\ndf_ramen[\"Style\"].fillna(\"No Pack\", inplace=True)  #No Pack is constant or default value\ndf_ramen.isnull().sum()",
      "metadata": {
        "trusted": true
      },
      "outputs": [
        {
          "execution_count": 59,
          "output_type": "execute_result",
          "data": {
            "text/plain": "Review #       0\nBrand          0\nVariety        0\nStyle          0\nCountry        0\nStars         21\nTop Ten     2539\ndtype: int64"
          },
          "metadata": {}
        }
      ],
      "execution_count": 59
    },
    {
      "cell_type": "code",
      "source": "# now filling null values using fillna() in \"Top Ten\" column:\ndf_ramen[\"Top Ten\"].fillna(\"No Rank\", inplace=True)\ndf_ramen.isnull().sum()",
      "metadata": {
        "trusted": true
      },
      "outputs": [
        {
          "execution_count": 61,
          "output_type": "execute_result",
          "data": {
            "text/plain": "Review #     0\nBrand        0\nVariety      0\nStyle        0\nCountry      0\nStars       21\nTop Ten      0\ndtype: int64"
          },
          "metadata": {}
        }
      ],
      "execution_count": 61
    },
    {
      "cell_type": "code",
      "source": "df_ramen",
      "metadata": {
        "trusted": true
      },
      "outputs": [
        {
          "execution_count": 62,
          "output_type": "execute_result",
          "data": {
            "text/plain": "      Review #           Brand  \\\n0         2580       New Touch   \n1         2579        Just Way   \n2         2578          Nissin   \n3         2577         Wei Lih   \n4         2576  Ching's Secret   \n...        ...             ...   \n2575         5           Vifon   \n2576         4         Wai Wai   \n2577         3         Wai Wai   \n2578         2         Wai Wai   \n2579         1        Westbrae   \n\n                                                Variety Style   Country  \\\n0                             T's Restaurant Tantanmen    Cup     Japan   \n1     Noodles Spicy Hot Sesame Spicy Hot Sesame Guan...  Pack    Taiwan   \n2                         Cup Noodles Chicken Vegetable   Cup       USA   \n3                         GGE Ramen Snack Tomato Flavor  Pack    Taiwan   \n4                                       Singapore Curry  Pack     India   \n...                                                 ...   ...       ...   \n2575  Hu Tiu Nam Vang [\"Phnom Penh\" style] Asian Sty...  Bowl   Vietnam   \n2576                     Oriental Style Instant Noodles  Pack  Thailand   \n2577                                     Tom Yum Shrimp  Pack  Thailand   \n2578                               Tom Yum Chili Flavor  Pack  Thailand   \n2579                                         Miso Ramen  Pack       USA   \n\n      Stars  Top Ten  \n0      3.75  No Rank  \n1      1.00  No Rank  \n2       NaN  No Rank  \n3      2.75  No Rank  \n4      3.75  No Rank  \n...     ...      ...  \n2575   3.50  No Rank  \n2576   1.00  No Rank  \n2577   2.00  No Rank  \n2578   2.00  No Rank  \n2579   0.50  No Rank  \n\n[2580 rows x 7 columns]",
            "text/html": "<div>\n<style scoped>\n    .dataframe tbody tr th:only-of-type {\n        vertical-align: middle;\n    }\n\n    .dataframe tbody tr th {\n        vertical-align: top;\n    }\n\n    .dataframe thead th {\n        text-align: right;\n    }\n</style>\n<table border=\"1\" class=\"dataframe\">\n  <thead>\n    <tr style=\"text-align: right;\">\n      <th></th>\n      <th>Review #</th>\n      <th>Brand</th>\n      <th>Variety</th>\n      <th>Style</th>\n      <th>Country</th>\n      <th>Stars</th>\n      <th>Top Ten</th>\n    </tr>\n  </thead>\n  <tbody>\n    <tr>\n      <th>0</th>\n      <td>2580</td>\n      <td>New Touch</td>\n      <td>T's Restaurant Tantanmen</td>\n      <td>Cup</td>\n      <td>Japan</td>\n      <td>3.75</td>\n      <td>No Rank</td>\n    </tr>\n    <tr>\n      <th>1</th>\n      <td>2579</td>\n      <td>Just Way</td>\n      <td>Noodles Spicy Hot Sesame Spicy Hot Sesame Guan...</td>\n      <td>Pack</td>\n      <td>Taiwan</td>\n      <td>1.00</td>\n      <td>No Rank</td>\n    </tr>\n    <tr>\n      <th>2</th>\n      <td>2578</td>\n      <td>Nissin</td>\n      <td>Cup Noodles Chicken Vegetable</td>\n      <td>Cup</td>\n      <td>USA</td>\n      <td>NaN</td>\n      <td>No Rank</td>\n    </tr>\n    <tr>\n      <th>3</th>\n      <td>2577</td>\n      <td>Wei Lih</td>\n      <td>GGE Ramen Snack Tomato Flavor</td>\n      <td>Pack</td>\n      <td>Taiwan</td>\n      <td>2.75</td>\n      <td>No Rank</td>\n    </tr>\n    <tr>\n      <th>4</th>\n      <td>2576</td>\n      <td>Ching's Secret</td>\n      <td>Singapore Curry</td>\n      <td>Pack</td>\n      <td>India</td>\n      <td>3.75</td>\n      <td>No Rank</td>\n    </tr>\n    <tr>\n      <th>...</th>\n      <td>...</td>\n      <td>...</td>\n      <td>...</td>\n      <td>...</td>\n      <td>...</td>\n      <td>...</td>\n      <td>...</td>\n    </tr>\n    <tr>\n      <th>2575</th>\n      <td>5</td>\n      <td>Vifon</td>\n      <td>Hu Tiu Nam Vang [\"Phnom Penh\" style] Asian Sty...</td>\n      <td>Bowl</td>\n      <td>Vietnam</td>\n      <td>3.50</td>\n      <td>No Rank</td>\n    </tr>\n    <tr>\n      <th>2576</th>\n      <td>4</td>\n      <td>Wai Wai</td>\n      <td>Oriental Style Instant Noodles</td>\n      <td>Pack</td>\n      <td>Thailand</td>\n      <td>1.00</td>\n      <td>No Rank</td>\n    </tr>\n    <tr>\n      <th>2577</th>\n      <td>3</td>\n      <td>Wai Wai</td>\n      <td>Tom Yum Shrimp</td>\n      <td>Pack</td>\n      <td>Thailand</td>\n      <td>2.00</td>\n      <td>No Rank</td>\n    </tr>\n    <tr>\n      <th>2578</th>\n      <td>2</td>\n      <td>Wai Wai</td>\n      <td>Tom Yum Chili Flavor</td>\n      <td>Pack</td>\n      <td>Thailand</td>\n      <td>2.00</td>\n      <td>No Rank</td>\n    </tr>\n    <tr>\n      <th>2579</th>\n      <td>1</td>\n      <td>Westbrae</td>\n      <td>Miso Ramen</td>\n      <td>Pack</td>\n      <td>USA</td>\n      <td>0.50</td>\n      <td>No Rank</td>\n    </tr>\n  </tbody>\n</table>\n<p>2580 rows × 7 columns</p>\n</div>"
          },
          "metadata": {}
        }
      ],
      "execution_count": 62
    },
    {
      "cell_type": "code",
      "source": "mean_val = df_ramen[\"Stars\"].mean()\nmean_val",
      "metadata": {
        "trusted": true
      },
      "outputs": [
        {
          "execution_count": 63,
          "output_type": "execute_result",
          "data": {
            "text/plain": "3.6505861664712773"
          },
          "metadata": {}
        }
      ],
      "execution_count": 63
    },
    {
      "cell_type": "code",
      "source": "# Replace null values in \"Stars\" with mean_val\ndf_ramen[\"Stars\"].fillna(value=mean_val, inplace=True)\ndf_ramen",
      "metadata": {
        "trusted": true
      },
      "outputs": [
        {
          "execution_count": 65,
          "output_type": "execute_result",
          "data": {
            "text/plain": "      Review #           Brand  \\\n0         2580       New Touch   \n1         2579        Just Way   \n2         2578          Nissin   \n3         2577         Wei Lih   \n4         2576  Ching's Secret   \n...        ...             ...   \n2575         5           Vifon   \n2576         4         Wai Wai   \n2577         3         Wai Wai   \n2578         2         Wai Wai   \n2579         1        Westbrae   \n\n                                                Variety Style   Country  \\\n0                             T's Restaurant Tantanmen    Cup     Japan   \n1     Noodles Spicy Hot Sesame Spicy Hot Sesame Guan...  Pack    Taiwan   \n2                         Cup Noodles Chicken Vegetable   Cup       USA   \n3                         GGE Ramen Snack Tomato Flavor  Pack    Taiwan   \n4                                       Singapore Curry  Pack     India   \n...                                                 ...   ...       ...   \n2575  Hu Tiu Nam Vang [\"Phnom Penh\" style] Asian Sty...  Bowl   Vietnam   \n2576                     Oriental Style Instant Noodles  Pack  Thailand   \n2577                                     Tom Yum Shrimp  Pack  Thailand   \n2578                               Tom Yum Chili Flavor  Pack  Thailand   \n2579                                         Miso Ramen  Pack       USA   \n\n         Stars  Top Ten  \n0     3.750000  No Rank  \n1     1.000000  No Rank  \n2     3.650586  No Rank  \n3     2.750000  No Rank  \n4     3.750000  No Rank  \n...        ...      ...  \n2575  3.500000  No Rank  \n2576  1.000000  No Rank  \n2577  2.000000  No Rank  \n2578  2.000000  No Rank  \n2579  0.500000  No Rank  \n\n[2580 rows x 7 columns]",
            "text/html": "<div>\n<style scoped>\n    .dataframe tbody tr th:only-of-type {\n        vertical-align: middle;\n    }\n\n    .dataframe tbody tr th {\n        vertical-align: top;\n    }\n\n    .dataframe thead th {\n        text-align: right;\n    }\n</style>\n<table border=\"1\" class=\"dataframe\">\n  <thead>\n    <tr style=\"text-align: right;\">\n      <th></th>\n      <th>Review #</th>\n      <th>Brand</th>\n      <th>Variety</th>\n      <th>Style</th>\n      <th>Country</th>\n      <th>Stars</th>\n      <th>Top Ten</th>\n    </tr>\n  </thead>\n  <tbody>\n    <tr>\n      <th>0</th>\n      <td>2580</td>\n      <td>New Touch</td>\n      <td>T's Restaurant Tantanmen</td>\n      <td>Cup</td>\n      <td>Japan</td>\n      <td>3.750000</td>\n      <td>No Rank</td>\n    </tr>\n    <tr>\n      <th>1</th>\n      <td>2579</td>\n      <td>Just Way</td>\n      <td>Noodles Spicy Hot Sesame Spicy Hot Sesame Guan...</td>\n      <td>Pack</td>\n      <td>Taiwan</td>\n      <td>1.000000</td>\n      <td>No Rank</td>\n    </tr>\n    <tr>\n      <th>2</th>\n      <td>2578</td>\n      <td>Nissin</td>\n      <td>Cup Noodles Chicken Vegetable</td>\n      <td>Cup</td>\n      <td>USA</td>\n      <td>3.650586</td>\n      <td>No Rank</td>\n    </tr>\n    <tr>\n      <th>3</th>\n      <td>2577</td>\n      <td>Wei Lih</td>\n      <td>GGE Ramen Snack Tomato Flavor</td>\n      <td>Pack</td>\n      <td>Taiwan</td>\n      <td>2.750000</td>\n      <td>No Rank</td>\n    </tr>\n    <tr>\n      <th>4</th>\n      <td>2576</td>\n      <td>Ching's Secret</td>\n      <td>Singapore Curry</td>\n      <td>Pack</td>\n      <td>India</td>\n      <td>3.750000</td>\n      <td>No Rank</td>\n    </tr>\n    <tr>\n      <th>...</th>\n      <td>...</td>\n      <td>...</td>\n      <td>...</td>\n      <td>...</td>\n      <td>...</td>\n      <td>...</td>\n      <td>...</td>\n    </tr>\n    <tr>\n      <th>2575</th>\n      <td>5</td>\n      <td>Vifon</td>\n      <td>Hu Tiu Nam Vang [\"Phnom Penh\" style] Asian Sty...</td>\n      <td>Bowl</td>\n      <td>Vietnam</td>\n      <td>3.500000</td>\n      <td>No Rank</td>\n    </tr>\n    <tr>\n      <th>2576</th>\n      <td>4</td>\n      <td>Wai Wai</td>\n      <td>Oriental Style Instant Noodles</td>\n      <td>Pack</td>\n      <td>Thailand</td>\n      <td>1.000000</td>\n      <td>No Rank</td>\n    </tr>\n    <tr>\n      <th>2577</th>\n      <td>3</td>\n      <td>Wai Wai</td>\n      <td>Tom Yum Shrimp</td>\n      <td>Pack</td>\n      <td>Thailand</td>\n      <td>2.000000</td>\n      <td>No Rank</td>\n    </tr>\n    <tr>\n      <th>2578</th>\n      <td>2</td>\n      <td>Wai Wai</td>\n      <td>Tom Yum Chili Flavor</td>\n      <td>Pack</td>\n      <td>Thailand</td>\n      <td>2.000000</td>\n      <td>No Rank</td>\n    </tr>\n    <tr>\n      <th>2579</th>\n      <td>1</td>\n      <td>Westbrae</td>\n      <td>Miso Ramen</td>\n      <td>Pack</td>\n      <td>USA</td>\n      <td>0.500000</td>\n      <td>No Rank</td>\n    </tr>\n  </tbody>\n</table>\n<p>2580 rows × 7 columns</p>\n</div>"
          },
          "metadata": {}
        }
      ],
      "execution_count": 65
    },
    {
      "cell_type": "code",
      "source": "# Change datatype of any column using dictionary format\nvalue_changetype={\n    'Stars': int\n        }\ndf_ramen=df_ramen.astype(value_changetype)\nprint(df_ramen.dtypes)",
      "metadata": {
        "trusted": true
      },
      "outputs": [
        {
          "name": "stdout",
          "text": "Review #     int64\nBrand       object\nVariety     object\nStyle       object\nCountry     object\nStars        int32\nTop Ten     object\ndtype: object\n",
          "output_type": "stream"
        }
      ],
      "execution_count": 70
    },
    {
      "cell_type": "code",
      "source": "# A method .value_counts() gives the frequency of all values in a column\n# frequency- number of occurrences/repeatitions\ndf_ramen['Brand'].value_counts().head(50)     #head(20) will print onlt first top 20 rows",
      "metadata": {
        "trusted": true
      },
      "outputs": [
        {
          "execution_count": 73,
          "output_type": "execute_result",
          "data": {
            "text/plain": "Nissin              381\nNongshim             98\nMaruchan             76\nMama                 71\nPaldo                66\nMyojo                63\nIndomie              53\nSamyang Foods        52\nOttogi               46\nLucky Me!            34\nVina Acecook         34\nVifon                33\nMaggi                30\nMamee                29\nMaster Kong          28\nMAMA                 27\nA-Sha Dry Noodle     26\nKOKA                 25\nWai Wai              25\nSapporo Ichiban      25\nMyKuali              24\nVe Wong              24\nJML                  23\nSamyang              19\nKoka                 18\nBatchelors           16\nDoll                 16\nMr. Noodles          15\nKamfen               15\nAcecook              15\nWei Lih              15\nTakamori Kosan       14\nAsian Thai Foods     14\nLittle Cook          14\nSau Tao              14\nVit's                13\nDeshome              13\nUnif                 13\nDragonfly            13\nSaigon Ve Wong       13\nWu-Mu                12\nAnnie Chun's         12\nUni-President        12\nYum Yum              12\nABC                  12\nMi Sedaap            12\nGolden Wheat         12\nShirakiku            11\nBaijia               11\nPot Noodle           11\nName: Brand, dtype: int64"
          },
          "metadata": {}
        }
      ],
      "execution_count": 73
    },
    {
      "cell_type": "code",
      "source": "df_ramen['Style'].value_counts()\n\n# Most frequently used style: Pack\n# Least Used: bar/can",
      "metadata": {
        "trusted": true
      },
      "outputs": [
        {
          "execution_count": 77,
          "output_type": "execute_result",
          "data": {
            "text/plain": "Pack       1531\nBowl        481\nCup         450\nTray        108\nBox           6\nNo Pack       2\nCan           1\nBar           1\nName: Style, dtype: int64"
          },
          "metadata": {}
        }
      ],
      "execution_count": 77
    },
    {
      "cell_type": "code",
      "source": "",
      "metadata": {
        "trusted": true
      },
      "outputs": [],
      "execution_count": null
    }
  ]
}