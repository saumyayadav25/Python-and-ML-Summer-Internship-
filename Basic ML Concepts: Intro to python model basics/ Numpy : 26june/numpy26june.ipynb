{
  "cells": [
    {
      "cell_type": "code",
      "execution_count": 1,
      "metadata": {
        "trusted": true
      },
      "outputs": [],
      "source": [
        "import numpy as np"
      ]
    },
    {
      "cell_type": "code",
      "execution_count": 2,
      "metadata": {
        "trusted": true
      },
      "outputs": [
        {
          "name": "stdout",
          "output_type": "stream",
          "text": [
            "1.26.1\n"
          ]
        }
      ],
      "source": [
        "print(np.__version__)"
      ]
    },
    {
      "cell_type": "code",
      "execution_count": 3,
      "metadata": {
        "trusted": true
      },
      "outputs": [
        {
          "name": "stdout",
          "output_type": "stream",
          "text": [
            "The array is:  [11 22 33 44 55]\n"
          ]
        }
      ],
      "source": [
        "arr1=np.array([11,22,33,44,55])\n",
        "print(\"The array is: \",arr1)"
      ]
    },
    {
      "cell_type": "code",
      "execution_count": 4,
      "metadata": {
        "trusted": true
      },
      "outputs": [
        {
          "name": "stdout",
          "output_type": "stream",
          "text": [
            "<class 'numpy.ndarray'>\n"
          ]
        }
      ],
      "source": [
        "print(type(arr1))"
      ]
    },
    {
      "cell_type": "code",
      "execution_count": 5,
      "metadata": {
        "trusted": true
      },
      "outputs": [
        {
          "name": "stdout",
          "output_type": "stream",
          "text": [
            "The array is:  [ 77  88  99 100]\n",
            "<class 'numpy.ndarray'>\n"
          ]
        }
      ],
      "source": [
        "arr2=np.array((77,88,99,100))\n",
        "print(\"The array is: \", arr2)\n",
        "print(type(arr2))"
      ]
    },
    {
      "cell_type": "code",
      "execution_count": 6,
      "metadata": {
        "trusted": true
      },
      "outputs": [
        {
          "name": "stdout",
          "output_type": "stream",
          "text": [
            "[[1 2 3]\n",
            " [4 5 6]]\n",
            "The number of dimensions:  2\n",
            "The shape of array:  (2, 3)\n"
          ]
        }
      ],
      "source": [
        "arr3=np.array([[1,2,3],[4,5,6]])\n",
        "print(arr3)\n",
        "print(\"The number of dimensions: \", arr3.ndim)\n",
        "print(\"The shape of array: \", arr3.shape)"
      ]
    },
    {
      "cell_type": "code",
      "execution_count": 8,
      "metadata": {
        "trusted": true
      },
      "outputs": [
        {
          "name": "stdout",
          "output_type": "stream",
          "text": [
            "[[[  1   2   3]\n",
            "  [  4   5   6]]\n",
            "\n",
            " [[ 11  22  33]\n",
            "  [ 44  55  66]]\n",
            "\n",
            " [[111 222 333]\n",
            "  [444 555 666]]]\n",
            "The number of dimensions:  3\n",
            "The shape of array:  (3, 2, 3)\n"
          ]
        }
      ],
      "source": [
        "arr4=np.array([[[1,2,3],[4,5,6]], [[11,22,33],[44,55,66]], [[111,222,333],[444,555,666]]])\n",
        "print(arr4)\n",
        "print(\"The number of dimensions: \", arr4.ndim)\n",
        "print(\"The shape of array: \", arr4.shape)"
      ]
    }
  ],
  "metadata": {
    "kernelspec": {
      "display_name": "Python (Pyodide)",
      "language": "python",
      "name": "python"
    },
    "language_info": {
      "codemirror_mode": {
        "name": "python",
        "version": 3
      },
      "file_extension": ".py",
      "mimetype": "text/x-python",
      "name": "python",
      "nbconvert_exporter": "python",
      "pygments_lexer": "ipython3",
      "version": "3.8"
    }
  },
  "nbformat": 4,
  "nbformat_minor": 4
}
