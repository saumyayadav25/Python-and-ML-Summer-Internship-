{
  "metadata": {
    "kernelspec": {
      "name": "python",
      "display_name": "Python (Pyodide)",
      "language": "python"
    },
    "language_info": {
      "codemirror_mode": {
        "name": "python",
        "version": 3
      },
      "file_extension": ".py",
      "mimetype": "text/x-python",
      "name": "python",
      "nbconvert_exporter": "python",
      "pygments_lexer": "ipython3",
      "version": "3.8"
    }
  },
  "nbformat_minor": 4,
  "nbformat": 4,
  "cells": [
    {
      "cell_type": "code",
      "source": "import numpy as np",
      "metadata": {
        "trusted": true
      },
      "outputs": [],
      "execution_count": 2
    },
    {
      "cell_type": "code",
      "source": "arr=np.array(11)\n#array function with value 11. It is known as scalar/number or 0-D array\nprint(\"The array is:\", arr )\n#This type of array having a single number only is called 0-D array",
      "metadata": {
        "trusted": true
      },
      "outputs": [
        {
          "name": "stdout",
          "text": "The array is: 11\n",
          "output_type": "stream"
        }
      ],
      "execution_count": 3
    },
    {
      "cell_type": "code",
      "source": "# type(): type() is a built-in python function that determines the type of array\nprint(type(arr))",
      "metadata": {
        "trusted": true
      },
      "outputs": [
        {
          "name": "stdout",
          "text": "<class 'numpy.ndarray'>\n",
          "output_type": "stream"
        }
      ],
      "execution_count": 4
    },
    {
      "cell_type": "code",
      "source": "# We may use extended syntax with various parameters:-\n# numpy.array(object, dtype, copy=True, order=None, subclass=False,ndim)\n# Details of paramteres are as follows:\n# 1. object: It represents python collections object like list, tuple, dictionary.\n# 2. dtype: It is possible to assign a data type to the array elements.\n# 3. copy: This parameter that suggests if the object is copied or not.\n# 4. order: 2 possible value available-1.",
      "metadata": {
        "trusted": true
      },
      "outputs": [],
      "execution_count": 10
    },
    {
      "cell_type": "code",
      "source": "# Example to create an 1-D array using the list object\narr=np.array([10,11,12,13,14,15])\nprint(arr)     #Array syntax has list brackets but no commas",
      "metadata": {
        "trusted": true
      },
      "outputs": [
        {
          "name": "stdout",
          "text": "[10 11 12 13 14 15]\n",
          "output_type": "stream"
        }
      ],
      "execution_count": 5
    },
    {
      "cell_type": "code",
      "source": "print(arr[0], arr[1], arr[5]) ",
      "metadata": {
        "trusted": true
      },
      "outputs": [
        {
          "name": "stdout",
          "text": "10 11 15\n",
          "output_type": "stream"
        }
      ],
      "execution_count": 6
    },
    {
      "cell_type": "code",
      "source": "arr=np.array({'h','e','l','l','o'})\nprint(arr)",
      "metadata": {
        "trusted": true
      },
      "outputs": [
        {
          "name": "stdout",
          "text": "{'h', 'o', 'e', 'l'}\n",
          "output_type": "stream"
        }
      ],
      "execution_count": 9
    },
    {
      "cell_type": "code",
      "source": "# Example to create a (multi-dimensional) 2-D array object. \n# An array that has 1-D arrays as its elements is called a 2-D array\n# These are often used to represt matrix or 2nd order tensors\narr1=np.array([[10,20,30],[40,50,60],[70,80,90]])\narr2=np.array([[1,2,3],[4,5,6],[7,8,9]])\nprint(arr1)\nprint(\"The size of array: \", arr1.size)  #size property gives\nprint(type(arr1))\nprint(\"arr1[0,0]: \", arr1[0,0]) #arr1[row number, col number]\nprint(\"arr1[2][1]: \", arr1[2][1])  #arr1[row number][col number]\nprint(type(arr1[0,0]))  #arr1[0][0]=10\nprint(type(arr1[1,1]))   #arr1[1][1]=50\n\n# To check the data type of each array item, the dtype function is used.\nprint('The datatype of each element of arr1: ', arr1.dtype)\n\narr2=np.array(['a','b','c','d','e'])\nprint(arr2)\nprint(arr2.size)\nprint(type(arr2))\nprint(type(arr2[0]))\nprint(arr2.dtype)  #U1 means unicode string",
      "metadata": {
        "trusted": true
      },
      "outputs": [
        {
          "name": "stdout",
          "text": "[[10 20 30]\n [40 50 60]\n [70 80 90]]\nThe size of array:  9\n<class 'numpy.ndarray'>\narr1[0,0]:  10\narr1[2][1]:  80\n<class 'numpy.int32'>\n<class 'numpy.int32'>\nThe datatype of each element of arr1:  int32\n['a' 'b' 'c' 'd' 'e']\n5\n<class 'numpy.ndarray'>\n<class 'numpy.str_'>\n<U1\n",
          "output_type": "stream"
        }
      ],
      "execution_count": 11
    },
    {
      "cell_type": "code",
      "source": "# We can reshape the array by changing the number of rows and columns of the N-D array\n# reshape() function is used to reshape the array\n# It takes two parameters- row and columns defining the new shape of the array.\n# Rules of reshape: The reshaped array must maintain size compatibility\narr=np.array([[1,2],[3,4],[5,6]])  #3 rows and 2 columns -> 3*2=6\nprint(\"printing original array 1\")\nprint(arr)\narr=arr.reshape(2,3)\nprint(\"printing the reshaped array 2\")\nprint(arr)\narr=arr.reshape(1,6)\nprint(\"printing the reshaped array 3\")\nprint(arr)\narr=arr.reshape(3,2)\nprint(\"printing the reshaped array 4\")\nprint(arr)\narr=arr.reshape(6,1)\nprint(\"printing the reshaped array 5\")\nprint(arr)\n\n# arr=arr.reshape(2,2) : it gives error because we are trying to reshape with incompatible row and column number : 2*2=4",
      "metadata": {
        "trusted": true
      },
      "outputs": [
        {
          "name": "stdout",
          "text": "printing original array 1\n[[1 2]\n [3 4]\n [5 6]]\nprinting the reshaped array 2\n[[1 2 3]\n [4 5 6]]\nprinting the reshaped array 3\n[[1 2 3 4 5 6]]\nprinting the reshaped array 4\n[[1 2]\n [3 4]\n [5 6]]\nprinting the reshaped array 5\n[[1]\n [2]\n [3]\n [4]\n [5]\n [6]]\n",
          "output_type": "stream"
        }
      ],
      "execution_count": 14
    },
    {
      "cell_type": "code",
      "source": "# Demo of 3-D arrays\n# An array having 2-D arrays as its element is called 3-D array and represents a 3D array\narr2=np.array([[[5,6,7],[8,9,10]],[[11,12,13],[14,15,16]]])\narr3=np.array([[[1,2,3],[4,5,6]],[[11,12,13],[14,15,16]],[[44,55,66],[77,88,99]]])\nprint(arr2)\nprint(arr2.shape)   #gives output as: (no. of 2D array/ small components, no. of row, no. of columns)\nprint(arr3)\nprint(arr3.shape)",
      "metadata": {
        "trusted": true
      },
      "outputs": [
        {
          "name": "stdout",
          "text": "[[[ 5  6  7]\n  [ 8  9 10]]\n\n [[11 12 13]\n  [14 15 16]]]\n(2, 2, 3)\n[[[ 1  2  3]\n  [ 4  5  6]]\n\n [[11 12 13]\n  [14 15 16]]\n\n [[44 55 66]\n  [77 88 99]]]\n(3, 2, 3)\n",
          "output_type": "stream"
        }
      ],
      "execution_count": 25
    },
    {
      "cell_type": "code",
      "source": "# To convert datatype\narr1=np.array([(10,1),(20,2),(30,3),(40,5)], complex)\nprint(arr1)\nprint(arr1.shape)",
      "metadata": {
        "trusted": true
      },
      "outputs": [
        {
          "name": "stdout",
          "text": "[[10.+0.j  1.+0.j]\n [20.+0.j  2.+0.j]\n [30.+0.j  3.+0.j]\n [40.+0.j  5.+0.j]]\n(4, 2)\n",
          "output_type": "stream"
        }
      ],
      "execution_count": 9
    },
    {
      "cell_type": "code",
      "source": "# The ndim property can be used to find the dimensions of the array (just see the no. of brackets at the end of array, irrespective of no. of elements present in the array)\narr2=np.array(10)\nprint(arr2.ndim)\narr3=np.array([1,2,3,4,5,6,7,8])\nprint(arr3.ndim)\narr4=np.array([[10,20,30],[100,200,300]])\nprint(arr4.ndim)",
      "metadata": {
        "trusted": true
      },
      "outputs": [
        {
          "name": "stdout",
          "text": "0\n1\n2\n",
          "output_type": "stream"
        }
      ],
      "execution_count": 31
    },
    {
      "cell_type": "code",
      "source": "# We can assign any number of dimensions to an array\n# We can define the number of dimensions by using the ndim argument while defining and array\n# Array defined with 4 dimensions as 4-D array\narr3=np.array([1,2,3,4,5,6], ndmin=4, dtype=float)\nprint(arr3)\nprint(arr3.ndim)",
      "metadata": {
        "trusted": true
      },
      "outputs": [
        {
          "name": "stdout",
          "text": "[[[[1. 2. 3. 4. 5. 6.]]]]\n4\n",
          "output_type": "stream"
        }
      ],
      "execution_count": 38
    },
    {
      "cell_type": "code",
      "source": "arr2=np.array([[[5,6,7],[8,9,10]],[[11,12,13],[14,15,16]]])\nprint(arr2)\n# syntax of accessing 3-D array element = array_name[no. of 2-D array, row_number,col_number]\nprint(arr2[0,0,2])\nprint(arr2[0,1,2])\nprint(arr2[1,0,2])\nprint(arr2[1,0,2])\nprint(arr2[1,1,2])",
      "metadata": {
        "trusted": true
      },
      "outputs": [
        {
          "name": "stdout",
          "text": "[[[ 5  6  7]\n  [ 8  9 10]]\n\n [[11 12 13]\n  [14 15 16]]]\n7\n10\n13\n13\n16\n",
          "output_type": "stream"
        }
      ],
      "execution_count": 40
    },
    {
      "cell_type": "code",
      "source": "# Demo of negative indexing i.e. starting from the right end and moving to left\n# Accessing last element in 1-D\narr4=np.array([1,2,3,4,5])\nprint(\"The last element in 1-D array; \", arr4[-1])\n\narr5=np.array([[1,2,3],[4,5,6]])\nprint(\"the last element in 2-D array 0th row: \", arr5[0][-1])\nprint(\"the last element in 2-D array 1th row: \", arr5[1][-1])\nprint(\"element 5 in 2-D array 1st row: \", arr5[-1][-2])",
      "metadata": {
        "trusted": true
      },
      "outputs": [
        {
          "name": "stdout",
          "text": "The last element in 1-D array;  5\nthe last element in 2-D array 0th row:  3\nthe last element in 2-D array 1th row:  6\nelement 5 in 2-D array 1st row:  5\n",
          "output_type": "stream"
        }
      ],
      "execution_count": 41
    },
    {
      "cell_type": "code",
      "source": "arr=np.array([1,2,3,4,5,6,7])\nprint(arr[1:5])\nprint(arr[4:])\nprint(arr[:4])\nprint(arr[-3:-1])\nprint(arr[1:5:2])\nprint(arr[::2])\nprint(arr[::-1])",
      "metadata": {
        "trusted": true
      },
      "outputs": [
        {
          "name": "stdout",
          "text": "[2 3 4 5]\n[5 6 7]\n[1 2 3 4]\n[5 6]\n[2 4]\n[1 3 5 7]\n[7 6 5 4 3 2 1]\n",
          "output_type": "stream"
        }
      ],
      "execution_count": 42
    },
    {
      "cell_type": "code",
      "source": "# numpy.arange(): creates an array by using the evenly spaces values over the given...\n# syntax: numpy.arange(start_index, stop_index, step, dtype)\narr1=np.arange(1,50,2,float)\nprint(arr1)\narr2=np.arange(10,100.5, 3.3, float)\nprint(arr2)",
      "metadata": {
        "trusted": true
      },
      "outputs": [
        {
          "name": "stdout",
          "text": "[ 1.  3.  5.  7.  9. 11. 13. 15. 17. 19. 21. 23. 25. 27. 29. 31. 33. 35.\n 37. 39. 41. 43. 45. 47. 49.]\n[10.  13.3 16.6 19.9 23.2 26.5 29.8 33.1 36.4 39.7 43.  46.3 49.6 52.9\n 56.2 59.5 62.8 66.1 69.4 72.7 76.  79.3 82.6 85.9 89.2 92.5 95.8 99.1]\n",
          "output_type": "stream"
        }
      ],
      "execution_count": 44
    },
    {
      "cell_type": "code",
      "source": "# linspace(): functions returns the evenly spaces values over the given interval\n# prints 10 values which are evemly spaces over the given interval 1-20\narr=np.linspace(1,20,10)\nprint(arr)",
      "metadata": {
        "trusted": true
      },
      "outputs": [
        {
          "name": "stdout",
          "text": "[ 1.          3.11111111  5.22222222  7.33333333  9.44444444 11.55555556\n 13.66666667 15.77777778 17.88888889 20.        ]\n",
          "output_type": "stream"
        }
      ],
      "execution_count": 11
    },
    {
      "cell_type": "code",
      "source": "# N-D array can be represented using axis such that axis=0 defined columns and axis=1 define....\n# use axis to implement row-level and column-level calculations.\n# Demo to find maximum element, minimum element, and the addition of all the row/column...\narr=np.array([[1,2,3],[10,1,6]])\nprint(arr)\nprint(\"the maximum element in each columns are:\", arr.max(axis=0))\nprint(\"the maximum element in each rows are:\", arr.max(axis=1))\nprint(\"the minimum element in each columns are:\", arr.min(axis=0))\nprint(\"the minimum element in each columns are:\", arr.min(axis=1))\nprint(\"the sum of all elements column-wise: \", arr.sum(axis=0))\nprint(\"the sum of all elements row-wise: \", arr.sum(axis=1))",
      "metadata": {
        "trusted": true
      },
      "outputs": [
        {
          "name": "stdout",
          "text": "[[ 1  2  3]\n [10  1  6]]\nthe maximum element in each columns are: [10  2  6]\nthe maximum element in each rows are: [ 3 10]\nthe minimum element in each columns are: [1 1 3]\nthe minimum element in each columns are: [1 1]\nthe sum of all elements column-wise:  [11  3  9]\nthe sum of all elements row-wise:  [ 6 17]\n",
          "output_type": "stream"
        }
      ],
      "execution_count": 47
    },
    {
      "cell_type": "code",
      "source": "# for finding square root and standard deviation ot the array elements we can use sqrt()....\narr1=np.array([[9,5,1],[16,20,30]])\nprint(np.sqrt(arr1))\nprint(np.std(arr1))\narr2=np.array([20,2,7,1,34])\nprint(np.mean(arr2))\narr3=np.array([[[5,6,7],[8,9,10]],[[11,12,13],[14,15,16]]])\nprint(np.mean(arr3))\nprint(\"the mean value column-wise:\", np.mean(arr3,axis=0))\nprint(\"the mean value row-wise:\", np.mean(arr3,axis=1))",
      "metadata": {
        "trusted": true
      },
      "outputs": [
        {
          "name": "stdout",
          "text": "[[3.         2.23606798 1.        ]\n [4.         4.47213595 5.47722558]]\n9.742518497116988\n12.8\n10.5\nthe mean value column-wise: [[ 8.  9. 10.]\n [11. 12. 13.]]\nthe mean value row-wise: [[ 6.5  7.5  8.5]\n [12.5 13.5 14.5]]\n",
          "output_type": "stream"
        }
      ],
      "execution_count": 49
    },
    {
      "cell_type": "code",
      "source": "# Arithmetic operations are performed on arrays\narr1=np.array([[1,4,6],[5,10,20]])\narr2=np.array([[1,2,3],[110,50,80]])\nprint(\"First array: \\n\",arr1)\nprint(\"Second array: \\n\",arr2)\nprint(\"Addition: \\n\",arr1+arr2)\nprint(\"Subtraction: \\n\",arr1-arr2)\nprint(\"Multiplication: \\n\",arr1*arr2)\nprint(\"Division: \\n\",arr1/arr2)",
      "metadata": {
        "trusted": true
      },
      "outputs": [
        {
          "name": "stdout",
          "text": "First array: \n [[ 1  4  6]\n [ 5 10 20]]\nSecond array: \n [[  1   2   3]\n [110  50  80]]\nAddition: \n [[  2   6   9]\n [115  60 100]]\nSubtraction: \n [[   0    2    3]\n [-105  -40  -60]]\nMultiplication: \n [[   1    8   18]\n [ 550  500 1600]]\nDivision: \n [[1.         2.         2.        ]\n [0.04545455 0.2        0.25      ]]\n",
          "output_type": "stream"
        }
      ],
      "execution_count": 53
    },
    {
      "cell_type": "code",
      "source": "# numpy.empty\narr1=np.empty((3,3),dtype=int, order='F')\nprint(arr1)\narr1=np.empty((3,3),dtype=int, order='C')\nprint(arr1)\n\n# numpy.zeroes\narr2=np.zeros((3,4),dtype=int, order='C')\nprint(arr2)\n\n# numpy.ones\narr3=np.ones((3,4),dtype=int)\nprint(arr3)",
      "metadata": {
        "trusted": true
      },
      "outputs": [
        {
          "name": "stdout",
          "text": "[[1 4 7]\n [2 5 8]\n [3 6 9]]\n[[10 20 30]\n [40 50 60]\n [70 80 90]]\n[[0 0 0 0]\n [0 0 0 0]\n [0 0 0 0]]\n[[1 1 1 1]\n [1 1 1 1]\n [1 1 1 1]]\n",
          "output_type": "stream"
        }
      ],
      "execution_count": 61
    },
    {
      "cell_type": "code",
      "source": "# iteration in 1-D array\narr1=np.array([1,2,3,4,5,5,6,7,8,9,10])\nfor i in arr1:\n    print(i)",
      "metadata": {
        "trusted": true
      },
      "outputs": [
        {
          "name": "stdout",
          "text": "1\n2\n3\n4\n5\n5\n6\n7\n8\n9\n10\n",
          "output_type": "stream"
        }
      ],
      "execution_count": 65
    },
    {
      "cell_type": "code",
      "source": "# Iteration of each row in 2-d array\narr2= np.array([[1,2,3],[4,5,6],[7,8,9]])\n# for loop to print each row of 2-d array\ncount:int=0   #declaring a variable as integer type in advance and giving default value=0\nfor row in arr2:\n    count = count +1\n    print(\"row\",count,\":\", row)\n\n# for loop to print each scalar or individual elements\nprint(\"All elements of array are:\")\nfor row in arr2:\n    for i in row:\n        print(i)",
      "metadata": {
        "trusted": true
      },
      "outputs": [
        {
          "name": "stdout",
          "text": "row 1 : [1 2 3]\nrow 2 : [4 5 6]\nrow 3 : [7 8 9]\nAll elements of array are:\n1\n2\n3\n4\n5\n6\n7\n8\n9\n",
          "output_type": "stream"
        }
      ],
      "execution_count": 66
    },
    {
      "cell_type": "code",
      "source": "# iteration in 3-D array\narr1=np.array([[[1,2,3],[4,5,6]]])\nfor twodarray in arr1:\n    for row in twodarray:\n        for i in row:\n            print(i)",
      "metadata": {
        "trusted": true
      },
      "outputs": [
        {
          "name": "stdout",
          "text": "1\n2\n3\n4\n5\n6\n",
          "output_type": "stream"
        }
      ],
      "execution_count": 5
    },
    {
      "cell_type": "code",
      "source": "# NumPy contains a matrix Library called numpy.matlib which is used to configure\n# 1. numpy.matlib.empty() function: It is used to return a matrix\n#Syntax: numpy.matlib.empty (shape, dtype, order) \n# 1 shape: Shape of the matrix.\n# 2 type: Data type of the matrix.\n# 3 order: Insertion order of the matrix, i.e. C or F.\nimport numpy\nimport numpy.matlib\nprint (numpy.matlib.empty ((3,4)))",
      "metadata": {
        "trusted": true
      },
      "outputs": [
        {
          "name": "stdout",
          "text": "[[1.54779732e-307 7.32949229e-308 5.74877383e-306 0.00000000e+000]\n [2.26553299e-081 5.26488672e+170 4.53234115e+257 9.06968600e+276]\n [1.65368296e-080 5.73348318e+169 3.57718699e-062 5.40375527e-310]]\n",
          "output_type": "stream"
        }
      ],
      "execution_count": 14
    },
    {
      "cell_type": "code",
      "source": "# 2. numpy.matlib.zeros) : Creates a matrix where the entries are initialized with zero\nprint (numpy.matlib.zeros ((3,3)))",
      "metadata": {
        "trusted": true
      },
      "outputs": [
        {
          "name": "stdout",
          "text": "[[0. 0. 0.]\n [0. 0. 0.]\n [0. 0. 0.]]\n",
          "output_type": "stream"
        }
      ],
      "execution_count": 12
    },
    {
      "cell_type": "code",
      "source": "# 3. numpy.matlib.ones() : Creates a martix with all elements initialized with one\nprint(numpy.matlib.ones((3,3)))",
      "metadata": {
        "trusted": true
      },
      "outputs": [
        {
          "name": "stdout",
          "text": "[[1. 1. 1.]\n [1. 1. 1.]\n [1. 1. 1.]]\n",
          "output_type": "stream"
        }
      ],
      "execution_count": 13
    },
    {
      "cell_type": "code",
      "source": "# numpy.matlib.eye() : diagonal elements initialized with one and all other elements zero\nprint(numpy.matlib.eye(3,3))\nprint(numpy.matlib.eye(3,2))\nprint(numpy.matlib.eye(4,4))\nprint(numpy.matlib.eye(4,5))",
      "metadata": {
        "trusted": true
      },
      "outputs": [
        {
          "name": "stdout",
          "text": "[[1. 0. 0.]\n [0. 1. 0.]\n [0. 0. 1.]]\n[[1. 0.]\n [0. 1.]\n [0. 0.]]\n[[1. 0. 0. 0.]\n [0. 1. 0. 0.]\n [0. 0. 1. 0.]\n [0. 0. 0. 1.]]\n[[1. 0. 0. 0. 0.]\n [0. 1. 0. 0. 0.]\n [0. 0. 1. 0. 0.]\n [0. 0. 0. 1. 0.]]\n",
          "output_type": "stream"
        }
      ],
      "execution_count": 16
    },
    {
      "cell_type": "code",
      "source": "# numpy.matlib.identity(): creates an identity matrix of the given size.\n# similiar to matlib.eye()\nprint(numpy.matlib.identity(5,dtype=int))",
      "metadata": {
        "trusted": true
      },
      "outputs": [
        {
          "name": "stdout",
          "text": "[[1 0 0 0 0]\n [0 1 0 0 0]\n [0 0 1 0 0]\n [0 0 0 1 0]\n [0 0 0 0 1]]\n",
          "output_type": "stream"
        }
      ],
      "execution_count": 18
    },
    {
      "cell_type": "code",
      "source": "# numpy.matlib.rand\nprint(numpy.matlib.rand(5,4))",
      "metadata": {
        "trusted": true
      },
      "outputs": [
        {
          "name": "stdout",
          "text": "[[0.15200575 0.61836441 0.60199509 0.59421364]\n [0.52240717 0.45665696 0.75864928 0.25278021]\n [0.32296427 0.70165732 0.50491907 0.9357274 ]\n [0.3901913  0.57310861 0.05797156 0.8008912 ]\n [0.72675396 0.35639983 0.7294212  0.82438783]]\n",
          "output_type": "stream"
        }
      ],
      "execution_count": 19
    },
    {
      "cell_type": "code",
      "source": "# PANDAS",
      "metadata": {
        "trusted": true
      },
      "outputs": [],
      "execution_count": 20
    },
    {
      "cell_type": "code",
      "source": "import pandas as pd\nimport numpy as np",
      "metadata": {
        "trusted": true
      },
      "outputs": [],
      "execution_count": 21
    },
    {
      "cell_type": "code",
      "source": "print(pd.__version__)\nprint(np.__version__)",
      "metadata": {
        "trusted": true
      },
      "outputs": [
        {
          "name": "stdout",
          "text": "1.5.3\n1.26.1\n",
          "output_type": "stream"
        }
      ],
      "execution_count": 22
    },
    {
      "cell_type": "code",
      "source": "# Creating an empty series\nseries1=pd.Series()\nprint(series1)",
      "metadata": {
        "trusted": true
      },
      "outputs": [
        {
          "name": "stderr",
          "text": "<ipython-input-23-519664585662>:2: FutureWarning: The default dtype for empty Series will be 'object' instead of 'float64' in a future version. Specify a dtype explicitly to silence this warning.\n  series1=pd.Series()\n",
          "output_type": "stream"
        },
        {
          "name": "stdout",
          "text": "Series([], dtype: float64)\n",
          "output_type": "stream"
        }
      ],
      "execution_count": 23
    },
    {
      "cell_type": "code",
      "source": "# Creating a series from array/list\narr1=np.array(['h','e','l','l','o'])\nseries2=pd.Series(arr1)\nprint(series2)",
      "metadata": {
        "trusted": true
      },
      "outputs": [
        {
          "name": "stdout",
          "text": "0    h\n1    e\n2    l\n3    l\n4    o\ndtype: object\n",
          "output_type": "stream"
        }
      ],
      "execution_count": 24
    },
    {
      "cell_type": "code",
      "source": "# Creating an empty dataframe\ndf=pd.DataFrame()\nprint(df)",
      "metadata": {
        "trusted": true
      },
      "outputs": [
        {
          "name": "stdout",
          "text": "Empty DataFrame\nColumns: []\nIndex: []\n",
          "output_type": "stream"
        }
      ],
      "execution_count": 25
    },
    {
      "cell_type": "code",
      "source": "# DataFrame can be created using a single list or a list of lists\n\n# list of strings\nlist1=['hello','all','users']\ndf1=pd.DataFrame(list1)\nprint(df1)",
      "metadata": {
        "trusted": true
      },
      "outputs": [
        {
          "name": "stdout",
          "text": "       0\n0  hello\n1    all\n2  users\n",
          "output_type": "stream"
        }
      ],
      "execution_count": 26
    },
    {
      "cell_type": "code",
      "source": "list1=[('hello','all','users'),[1,2,3,4,5],['a','b','c','d']]\ndf1=pd.DataFrame(list1)\nprint(df1)",
      "metadata": {
        "trusted": true
      },
      "outputs": [
        {
          "name": "stdout",
          "text": "       0    1      2     3    4\n0  hello  all  users  None  NaN\n1      1    2      3     4  5.0\n2      a    b      c     d  NaN\n",
          "output_type": "stream"
        }
      ],
      "execution_count": 27
    },
    {
      "cell_type": "code",
      "source": "",
      "metadata": {
        "trusted": true
      },
      "outputs": [],
      "execution_count": null
    }
  ]
}